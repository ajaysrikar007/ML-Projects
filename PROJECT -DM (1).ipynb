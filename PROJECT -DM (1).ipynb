{
 "cells": [
  {
   "cell_type": "markdown",
   "id": "61d53ad4",
   "metadata": {},
   "source": [
    "# Team “We Tried”\n",
    "                                                                                            \n",
    "Ajay Srikar Medidi(U85645387)                  \n",
    "Bapuji Satyala (U61600601)                                                                                           \n",
    "Gayatri Sowbhagya Lakshmi Akkireddi (U37764178)                                                                         \n",
    "Ramyasri Muthineni (U41740753)                                                                                                                                                                                                          \n",
    "Rehaan Ahmed Abdul (U84763124)                                                                                                                \n",
    "Sanjana Anumula (U64639710)                                                                                          \n",
    "\n"
   ]
  },
  {
   "cell_type": "markdown",
   "id": "43f03f50",
   "metadata": {},
   "source": [
    "## Introduction:\n"
   ]
  },
  {
   "cell_type": "markdown",
   "id": "43d73090",
   "metadata": {},
   "source": [
    "One of the most notable instances of this modern era's industrial globalization is the apparel industry. There are many manual operations in this business, which require a lot of labor. Employee performance in terms of production and delivery in clothing manufacturing enterprises is a major factor in meeting the huge demand for textile products around the world. Hence, monitoring, evaluating, and forecasting the productivity performance of the factory work teams is highly desired by the decision-makers in the apparel business.  \n",
    "\n",
    "We would like to know what all factors in would influence the productivity of the workers where we consider all factors that would influence and how the stake holders can use this data to evaluate the productivity trend and what all factors, they need to look at for the productivity of their workers to rise to help the company’s profits.\n"
   ]
  },
  {
   "cell_type": "markdown",
   "id": "1d8b68bd",
   "metadata": {},
   "source": [
    "## Plan of Action:"
   ]
  },
  {
   "cell_type": "markdown",
   "id": "ac869a4f",
   "metadata": {},
   "source": [
    "0. Importing Required Libraries\n",
    "1. Data Exploration and Preprocessing\n",
    "2. Training and Standardization\n",
    "3. Modeling\n",
    "4. Grid and Randomized Search\n",
    "5. Summary/Analysis"
   ]
  },
  {
   "cell_type": "markdown",
   "id": "b96fd7f2",
   "metadata": {},
   "source": [
    "### 0.Importing Required Libraries"
   ]
  },
  {
   "cell_type": "code",
   "execution_count": 2,
   "id": "6be1a675",
   "metadata": {},
   "outputs": [],
   "source": [
    "import pandas as pd\n",
    "import numpy as np\n",
    "from sklearn.model_selection import train_test_split,GridSearchCV,RandomizedSearchCV\n",
    "from sklearn.linear_model import LogisticRegression\n",
    "\n",
    "from sklearn.impute import SimpleImputer\n",
    "from sklearn.metrics import mean_absolute_error,mean_squared_error,r2_score,accuracy_score\n",
    "\n",
    "from sklearn.tree import DecisionTreeClassifier\n",
    "from sklearn.svm import SVC\n",
    "from imblearn.under_sampling import RandomUnderSampler\n",
    "from imblearn.over_sampling import SMOTE\n",
    "from sklearn import preprocessing\n",
    "from imblearn.over_sampling import ADASYN\n",
    "import warnings\n",
    "warnings.filterwarnings(\"ignore\")"
   ]
  },
  {
   "cell_type": "markdown",
   "id": "1aee3ec7",
   "metadata": {},
   "source": [
    "### Loading the Data"
   ]
  },
  {
   "cell_type": "markdown",
   "id": "2a1d6218",
   "metadata": {},
   "source": [
    "The data is in a CSV file, We'll load the data into a dataframe"
   ]
  },
  {
   "cell_type": "code",
   "execution_count": 24,
   "id": "a44272b5",
   "metadata": {},
   "outputs": [],
   "source": [
    "df=pd.read_csv(\"garments_worker_productivity.csv\")"
   ]
  },
  {
   "cell_type": "code",
   "execution_count": 25,
   "id": "47882069",
   "metadata": {},
   "outputs": [
    {
     "data": {
      "text/html": [
       "<div>\n",
       "<style scoped>\n",
       "    .dataframe tbody tr th:only-of-type {\n",
       "        vertical-align: middle;\n",
       "    }\n",
       "\n",
       "    .dataframe tbody tr th {\n",
       "        vertical-align: top;\n",
       "    }\n",
       "\n",
       "    .dataframe thead th {\n",
       "        text-align: right;\n",
       "    }\n",
       "</style>\n",
       "<table border=\"1\" class=\"dataframe\">\n",
       "  <thead>\n",
       "    <tr style=\"text-align: right;\">\n",
       "      <th></th>\n",
       "      <th>date</th>\n",
       "      <th>quarter</th>\n",
       "      <th>department</th>\n",
       "      <th>day</th>\n",
       "      <th>team</th>\n",
       "      <th>targeted_productivity</th>\n",
       "      <th>smv</th>\n",
       "      <th>wip</th>\n",
       "      <th>over_time</th>\n",
       "      <th>incentive</th>\n",
       "      <th>idle_time</th>\n",
       "      <th>idle_men</th>\n",
       "      <th>no_of_style_change</th>\n",
       "      <th>no_of_workers</th>\n",
       "      <th>actual_productivity</th>\n",
       "    </tr>\n",
       "  </thead>\n",
       "  <tbody>\n",
       "    <tr>\n",
       "      <th>0</th>\n",
       "      <td>1/1/2015</td>\n",
       "      <td>Quarter1</td>\n",
       "      <td>sweing</td>\n",
       "      <td>Thursday</td>\n",
       "      <td>8</td>\n",
       "      <td>0.80</td>\n",
       "      <td>26.16</td>\n",
       "      <td>1108.0</td>\n",
       "      <td>7080</td>\n",
       "      <td>98</td>\n",
       "      <td>0.0</td>\n",
       "      <td>0</td>\n",
       "      <td>0</td>\n",
       "      <td>59.0</td>\n",
       "      <td>0.940725</td>\n",
       "    </tr>\n",
       "    <tr>\n",
       "      <th>1</th>\n",
       "      <td>1/1/2015</td>\n",
       "      <td>Quarter1</td>\n",
       "      <td>finishing</td>\n",
       "      <td>Thursday</td>\n",
       "      <td>1</td>\n",
       "      <td>0.75</td>\n",
       "      <td>3.94</td>\n",
       "      <td>NaN</td>\n",
       "      <td>960</td>\n",
       "      <td>0</td>\n",
       "      <td>0.0</td>\n",
       "      <td>0</td>\n",
       "      <td>0</td>\n",
       "      <td>8.0</td>\n",
       "      <td>0.886500</td>\n",
       "    </tr>\n",
       "    <tr>\n",
       "      <th>2</th>\n",
       "      <td>1/1/2015</td>\n",
       "      <td>Quarter1</td>\n",
       "      <td>sweing</td>\n",
       "      <td>Thursday</td>\n",
       "      <td>11</td>\n",
       "      <td>0.80</td>\n",
       "      <td>11.41</td>\n",
       "      <td>968.0</td>\n",
       "      <td>3660</td>\n",
       "      <td>50</td>\n",
       "      <td>0.0</td>\n",
       "      <td>0</td>\n",
       "      <td>0</td>\n",
       "      <td>30.5</td>\n",
       "      <td>0.800570</td>\n",
       "    </tr>\n",
       "    <tr>\n",
       "      <th>3</th>\n",
       "      <td>1/1/2015</td>\n",
       "      <td>Quarter1</td>\n",
       "      <td>sweing</td>\n",
       "      <td>Thursday</td>\n",
       "      <td>12</td>\n",
       "      <td>0.80</td>\n",
       "      <td>11.41</td>\n",
       "      <td>968.0</td>\n",
       "      <td>3660</td>\n",
       "      <td>50</td>\n",
       "      <td>0.0</td>\n",
       "      <td>0</td>\n",
       "      <td>0</td>\n",
       "      <td>30.5</td>\n",
       "      <td>0.800570</td>\n",
       "    </tr>\n",
       "    <tr>\n",
       "      <th>4</th>\n",
       "      <td>1/1/2015</td>\n",
       "      <td>Quarter1</td>\n",
       "      <td>sweing</td>\n",
       "      <td>Thursday</td>\n",
       "      <td>6</td>\n",
       "      <td>0.80</td>\n",
       "      <td>25.90</td>\n",
       "      <td>1170.0</td>\n",
       "      <td>1920</td>\n",
       "      <td>50</td>\n",
       "      <td>0.0</td>\n",
       "      <td>0</td>\n",
       "      <td>0</td>\n",
       "      <td>56.0</td>\n",
       "      <td>0.800382</td>\n",
       "    </tr>\n",
       "    <tr>\n",
       "      <th>...</th>\n",
       "      <td>...</td>\n",
       "      <td>...</td>\n",
       "      <td>...</td>\n",
       "      <td>...</td>\n",
       "      <td>...</td>\n",
       "      <td>...</td>\n",
       "      <td>...</td>\n",
       "      <td>...</td>\n",
       "      <td>...</td>\n",
       "      <td>...</td>\n",
       "      <td>...</td>\n",
       "      <td>...</td>\n",
       "      <td>...</td>\n",
       "      <td>...</td>\n",
       "      <td>...</td>\n",
       "    </tr>\n",
       "    <tr>\n",
       "      <th>1192</th>\n",
       "      <td>3/11/2015</td>\n",
       "      <td>Quarter2</td>\n",
       "      <td>finishing</td>\n",
       "      <td>Wednesday</td>\n",
       "      <td>10</td>\n",
       "      <td>0.75</td>\n",
       "      <td>2.90</td>\n",
       "      <td>NaN</td>\n",
       "      <td>960</td>\n",
       "      <td>0</td>\n",
       "      <td>0.0</td>\n",
       "      <td>0</td>\n",
       "      <td>0</td>\n",
       "      <td>8.0</td>\n",
       "      <td>0.628333</td>\n",
       "    </tr>\n",
       "    <tr>\n",
       "      <th>1193</th>\n",
       "      <td>3/11/2015</td>\n",
       "      <td>Quarter2</td>\n",
       "      <td>finishing</td>\n",
       "      <td>Wednesday</td>\n",
       "      <td>8</td>\n",
       "      <td>0.70</td>\n",
       "      <td>3.90</td>\n",
       "      <td>NaN</td>\n",
       "      <td>960</td>\n",
       "      <td>0</td>\n",
       "      <td>0.0</td>\n",
       "      <td>0</td>\n",
       "      <td>0</td>\n",
       "      <td>8.0</td>\n",
       "      <td>0.625625</td>\n",
       "    </tr>\n",
       "    <tr>\n",
       "      <th>1194</th>\n",
       "      <td>3/11/2015</td>\n",
       "      <td>Quarter2</td>\n",
       "      <td>finishing</td>\n",
       "      <td>Wednesday</td>\n",
       "      <td>7</td>\n",
       "      <td>0.65</td>\n",
       "      <td>3.90</td>\n",
       "      <td>NaN</td>\n",
       "      <td>960</td>\n",
       "      <td>0</td>\n",
       "      <td>0.0</td>\n",
       "      <td>0</td>\n",
       "      <td>0</td>\n",
       "      <td>8.0</td>\n",
       "      <td>0.625625</td>\n",
       "    </tr>\n",
       "    <tr>\n",
       "      <th>1195</th>\n",
       "      <td>3/11/2015</td>\n",
       "      <td>Quarter2</td>\n",
       "      <td>finishing</td>\n",
       "      <td>Wednesday</td>\n",
       "      <td>9</td>\n",
       "      <td>0.75</td>\n",
       "      <td>2.90</td>\n",
       "      <td>NaN</td>\n",
       "      <td>1800</td>\n",
       "      <td>0</td>\n",
       "      <td>0.0</td>\n",
       "      <td>0</td>\n",
       "      <td>0</td>\n",
       "      <td>15.0</td>\n",
       "      <td>0.505889</td>\n",
       "    </tr>\n",
       "    <tr>\n",
       "      <th>1196</th>\n",
       "      <td>3/11/2015</td>\n",
       "      <td>Quarter2</td>\n",
       "      <td>finishing</td>\n",
       "      <td>Wednesday</td>\n",
       "      <td>6</td>\n",
       "      <td>0.70</td>\n",
       "      <td>2.90</td>\n",
       "      <td>NaN</td>\n",
       "      <td>720</td>\n",
       "      <td>0</td>\n",
       "      <td>0.0</td>\n",
       "      <td>0</td>\n",
       "      <td>0</td>\n",
       "      <td>6.0</td>\n",
       "      <td>0.394722</td>\n",
       "    </tr>\n",
       "  </tbody>\n",
       "</table>\n",
       "<p>1197 rows × 15 columns</p>\n",
       "</div>"
      ],
      "text/plain": [
       "           date   quarter  department        day  team  targeted_productivity  \\\n",
       "0      1/1/2015  Quarter1      sweing   Thursday     8                   0.80   \n",
       "1      1/1/2015  Quarter1  finishing    Thursday     1                   0.75   \n",
       "2      1/1/2015  Quarter1      sweing   Thursday    11                   0.80   \n",
       "3      1/1/2015  Quarter1      sweing   Thursday    12                   0.80   \n",
       "4      1/1/2015  Quarter1      sweing   Thursday     6                   0.80   \n",
       "...         ...       ...         ...        ...   ...                    ...   \n",
       "1192  3/11/2015  Quarter2   finishing  Wednesday    10                   0.75   \n",
       "1193  3/11/2015  Quarter2   finishing  Wednesday     8                   0.70   \n",
       "1194  3/11/2015  Quarter2   finishing  Wednesday     7                   0.65   \n",
       "1195  3/11/2015  Quarter2   finishing  Wednesday     9                   0.75   \n",
       "1196  3/11/2015  Quarter2   finishing  Wednesday     6                   0.70   \n",
       "\n",
       "        smv     wip  over_time  incentive  idle_time  idle_men  \\\n",
       "0     26.16  1108.0       7080         98        0.0         0   \n",
       "1      3.94     NaN        960          0        0.0         0   \n",
       "2     11.41   968.0       3660         50        0.0         0   \n",
       "3     11.41   968.0       3660         50        0.0         0   \n",
       "4     25.90  1170.0       1920         50        0.0         0   \n",
       "...     ...     ...        ...        ...        ...       ...   \n",
       "1192   2.90     NaN        960          0        0.0         0   \n",
       "1193   3.90     NaN        960          0        0.0         0   \n",
       "1194   3.90     NaN        960          0        0.0         0   \n",
       "1195   2.90     NaN       1800          0        0.0         0   \n",
       "1196   2.90     NaN        720          0        0.0         0   \n",
       "\n",
       "      no_of_style_change  no_of_workers  actual_productivity  \n",
       "0                      0           59.0             0.940725  \n",
       "1                      0            8.0             0.886500  \n",
       "2                      0           30.5             0.800570  \n",
       "3                      0           30.5             0.800570  \n",
       "4                      0           56.0             0.800382  \n",
       "...                  ...            ...                  ...  \n",
       "1192                   0            8.0             0.628333  \n",
       "1193                   0            8.0             0.625625  \n",
       "1194                   0            8.0             0.625625  \n",
       "1195                   0           15.0             0.505889  \n",
       "1196                   0            6.0             0.394722  \n",
       "\n",
       "[1197 rows x 15 columns]"
      ]
     },
     "execution_count": 25,
     "metadata": {},
     "output_type": "execute_result"
    }
   ],
   "source": [
    "df"
   ]
  },
  {
   "cell_type": "markdown",
   "id": "6d30f0b4",
   "metadata": {},
   "source": [
    "### Exploring Rows and Columns "
   ]
  },
  {
   "cell_type": "code",
   "execution_count": 26,
   "id": "6662b549",
   "metadata": {},
   "outputs": [
    {
     "data": {
      "text/plain": [
       "(1197, 15)"
      ]
     },
     "execution_count": 26,
     "metadata": {},
     "output_type": "execute_result"
    }
   ],
   "source": [
    "df.shape"
   ]
  },
  {
   "cell_type": "code",
   "execution_count": 27,
   "id": "b17c59b1",
   "metadata": {
    "scrolled": true
   },
   "outputs": [
    {
     "data": {
      "text/html": [
       "<div>\n",
       "<style scoped>\n",
       "    .dataframe tbody tr th:only-of-type {\n",
       "        vertical-align: middle;\n",
       "    }\n",
       "\n",
       "    .dataframe tbody tr th {\n",
       "        vertical-align: top;\n",
       "    }\n",
       "\n",
       "    .dataframe thead th {\n",
       "        text-align: right;\n",
       "    }\n",
       "</style>\n",
       "<table border=\"1\" class=\"dataframe\">\n",
       "  <thead>\n",
       "    <tr style=\"text-align: right;\">\n",
       "      <th></th>\n",
       "      <th>team</th>\n",
       "      <th>targeted_productivity</th>\n",
       "      <th>smv</th>\n",
       "      <th>wip</th>\n",
       "      <th>over_time</th>\n",
       "      <th>incentive</th>\n",
       "      <th>idle_time</th>\n",
       "      <th>idle_men</th>\n",
       "      <th>no_of_style_change</th>\n",
       "      <th>no_of_workers</th>\n",
       "      <th>actual_productivity</th>\n",
       "    </tr>\n",
       "  </thead>\n",
       "  <tbody>\n",
       "    <tr>\n",
       "      <th>count</th>\n",
       "      <td>1197.000000</td>\n",
       "      <td>1197.000000</td>\n",
       "      <td>1197.000000</td>\n",
       "      <td>691.000000</td>\n",
       "      <td>1197.000000</td>\n",
       "      <td>1197.000000</td>\n",
       "      <td>1197.000000</td>\n",
       "      <td>1197.000000</td>\n",
       "      <td>1197.000000</td>\n",
       "      <td>1197.000000</td>\n",
       "      <td>1197.000000</td>\n",
       "    </tr>\n",
       "    <tr>\n",
       "      <th>mean</th>\n",
       "      <td>6.426901</td>\n",
       "      <td>0.729632</td>\n",
       "      <td>15.062172</td>\n",
       "      <td>1190.465991</td>\n",
       "      <td>4567.460317</td>\n",
       "      <td>38.210526</td>\n",
       "      <td>0.730159</td>\n",
       "      <td>0.369256</td>\n",
       "      <td>0.150376</td>\n",
       "      <td>34.609858</td>\n",
       "      <td>0.735091</td>\n",
       "    </tr>\n",
       "    <tr>\n",
       "      <th>std</th>\n",
       "      <td>3.463963</td>\n",
       "      <td>0.097891</td>\n",
       "      <td>10.943219</td>\n",
       "      <td>1837.455001</td>\n",
       "      <td>3348.823563</td>\n",
       "      <td>160.182643</td>\n",
       "      <td>12.709757</td>\n",
       "      <td>3.268987</td>\n",
       "      <td>0.427848</td>\n",
       "      <td>22.197687</td>\n",
       "      <td>0.174488</td>\n",
       "    </tr>\n",
       "    <tr>\n",
       "      <th>min</th>\n",
       "      <td>1.000000</td>\n",
       "      <td>0.070000</td>\n",
       "      <td>2.900000</td>\n",
       "      <td>7.000000</td>\n",
       "      <td>0.000000</td>\n",
       "      <td>0.000000</td>\n",
       "      <td>0.000000</td>\n",
       "      <td>0.000000</td>\n",
       "      <td>0.000000</td>\n",
       "      <td>2.000000</td>\n",
       "      <td>0.233705</td>\n",
       "    </tr>\n",
       "    <tr>\n",
       "      <th>25%</th>\n",
       "      <td>3.000000</td>\n",
       "      <td>0.700000</td>\n",
       "      <td>3.940000</td>\n",
       "      <td>774.500000</td>\n",
       "      <td>1440.000000</td>\n",
       "      <td>0.000000</td>\n",
       "      <td>0.000000</td>\n",
       "      <td>0.000000</td>\n",
       "      <td>0.000000</td>\n",
       "      <td>9.000000</td>\n",
       "      <td>0.650307</td>\n",
       "    </tr>\n",
       "    <tr>\n",
       "      <th>50%</th>\n",
       "      <td>6.000000</td>\n",
       "      <td>0.750000</td>\n",
       "      <td>15.260000</td>\n",
       "      <td>1039.000000</td>\n",
       "      <td>3960.000000</td>\n",
       "      <td>0.000000</td>\n",
       "      <td>0.000000</td>\n",
       "      <td>0.000000</td>\n",
       "      <td>0.000000</td>\n",
       "      <td>34.000000</td>\n",
       "      <td>0.773333</td>\n",
       "    </tr>\n",
       "    <tr>\n",
       "      <th>75%</th>\n",
       "      <td>9.000000</td>\n",
       "      <td>0.800000</td>\n",
       "      <td>24.260000</td>\n",
       "      <td>1252.500000</td>\n",
       "      <td>6960.000000</td>\n",
       "      <td>50.000000</td>\n",
       "      <td>0.000000</td>\n",
       "      <td>0.000000</td>\n",
       "      <td>0.000000</td>\n",
       "      <td>57.000000</td>\n",
       "      <td>0.850253</td>\n",
       "    </tr>\n",
       "    <tr>\n",
       "      <th>max</th>\n",
       "      <td>12.000000</td>\n",
       "      <td>0.800000</td>\n",
       "      <td>54.560000</td>\n",
       "      <td>23122.000000</td>\n",
       "      <td>25920.000000</td>\n",
       "      <td>3600.000000</td>\n",
       "      <td>300.000000</td>\n",
       "      <td>45.000000</td>\n",
       "      <td>2.000000</td>\n",
       "      <td>89.000000</td>\n",
       "      <td>1.120437</td>\n",
       "    </tr>\n",
       "  </tbody>\n",
       "</table>\n",
       "</div>"
      ],
      "text/plain": [
       "              team  targeted_productivity          smv           wip  \\\n",
       "count  1197.000000            1197.000000  1197.000000    691.000000   \n",
       "mean      6.426901               0.729632    15.062172   1190.465991   \n",
       "std       3.463963               0.097891    10.943219   1837.455001   \n",
       "min       1.000000               0.070000     2.900000      7.000000   \n",
       "25%       3.000000               0.700000     3.940000    774.500000   \n",
       "50%       6.000000               0.750000    15.260000   1039.000000   \n",
       "75%       9.000000               0.800000    24.260000   1252.500000   \n",
       "max      12.000000               0.800000    54.560000  23122.000000   \n",
       "\n",
       "          over_time    incentive    idle_time     idle_men  \\\n",
       "count   1197.000000  1197.000000  1197.000000  1197.000000   \n",
       "mean    4567.460317    38.210526     0.730159     0.369256   \n",
       "std     3348.823563   160.182643    12.709757     3.268987   \n",
       "min        0.000000     0.000000     0.000000     0.000000   \n",
       "25%     1440.000000     0.000000     0.000000     0.000000   \n",
       "50%     3960.000000     0.000000     0.000000     0.000000   \n",
       "75%     6960.000000    50.000000     0.000000     0.000000   \n",
       "max    25920.000000  3600.000000   300.000000    45.000000   \n",
       "\n",
       "       no_of_style_change  no_of_workers  actual_productivity  \n",
       "count         1197.000000    1197.000000          1197.000000  \n",
       "mean             0.150376      34.609858             0.735091  \n",
       "std              0.427848      22.197687             0.174488  \n",
       "min              0.000000       2.000000             0.233705  \n",
       "25%              0.000000       9.000000             0.650307  \n",
       "50%              0.000000      34.000000             0.773333  \n",
       "75%              0.000000      57.000000             0.850253  \n",
       "max              2.000000      89.000000             1.120437  "
      ]
     },
     "execution_count": 27,
     "metadata": {},
     "output_type": "execute_result"
    }
   ],
   "source": [
    "df.describe()"
   ]
  },
  {
   "cell_type": "code",
   "execution_count": 28,
   "id": "7718fc4e",
   "metadata": {
    "scrolled": true
   },
   "outputs": [
    {
     "name": "stdout",
     "output_type": "stream",
     "text": [
      "<class 'pandas.core.frame.DataFrame'>\n",
      "RangeIndex: 1197 entries, 0 to 1196\n",
      "Data columns (total 15 columns):\n",
      " #   Column                 Non-Null Count  Dtype  \n",
      "---  ------                 --------------  -----  \n",
      " 0   date                   1197 non-null   object \n",
      " 1   quarter                1197 non-null   object \n",
      " 2   department             1197 non-null   object \n",
      " 3   day                    1197 non-null   object \n",
      " 4   team                   1197 non-null   int64  \n",
      " 5   targeted_productivity  1197 non-null   float64\n",
      " 6   smv                    1197 non-null   float64\n",
      " 7   wip                    691 non-null    float64\n",
      " 8   over_time              1197 non-null   int64  \n",
      " 9   incentive              1197 non-null   int64  \n",
      " 10  idle_time              1197 non-null   float64\n",
      " 11  idle_men               1197 non-null   int64  \n",
      " 12  no_of_style_change     1197 non-null   int64  \n",
      " 13  no_of_workers          1197 non-null   float64\n",
      " 14  actual_productivity    1197 non-null   float64\n",
      "dtypes: float64(6), int64(5), object(4)\n",
      "memory usage: 140.4+ KB\n"
     ]
    }
   ],
   "source": [
    "df.info()"
   ]
  },
  {
   "cell_type": "code",
   "execution_count": 32,
   "id": "b51bd414",
   "metadata": {},
   "outputs": [
    {
     "data": {
      "text/plain": [
       "DATE                      object\n",
       "QUARTER                   object\n",
       "DEPARTMENT                object\n",
       "DAY                       object\n",
       "TEAM                       int64\n",
       "TARGETED_PRODUCTIVITY    float64\n",
       "SMV                      float64\n",
       "WIP                      float64\n",
       "OVER_TIME                  int64\n",
       "INCENTIVE                  int64\n",
       "IDLE_TIME                float64\n",
       "IDLE_MEN                   int64\n",
       "NO_OF_STYLE_CHANGE         int64\n",
       "NO_OF_WORKERS            float64\n",
       "ACTUAL_PRODUCTIVITY      float64\n",
       "dtype: object"
      ]
     },
     "execution_count": 32,
     "metadata": {},
     "output_type": "execute_result"
    }
   ],
   "source": [
    "df.dtypes"
   ]
  },
  {
   "cell_type": "markdown",
   "id": "c89b5277",
   "metadata": {},
   "source": [
    "### Identifying and Handling Any Missing Data"
   ]
  },
  {
   "cell_type": "code",
   "execution_count": 29,
   "id": "153253a7",
   "metadata": {},
   "outputs": [
    {
     "data": {
      "text/plain": [
       "date                       0\n",
       "quarter                    0\n",
       "department                 0\n",
       "day                        0\n",
       "team                       0\n",
       "targeted_productivity      0\n",
       "smv                        0\n",
       "wip                      506\n",
       "over_time                  0\n",
       "incentive                  0\n",
       "idle_time                  0\n",
       "idle_men                   0\n",
       "no_of_style_change         0\n",
       "no_of_workers              0\n",
       "actual_productivity        0\n",
       "dtype: int64"
      ]
     },
     "execution_count": 29,
     "metadata": {},
     "output_type": "execute_result"
    }
   ],
   "source": [
    "df.isna().sum()"
   ]
  },
  {
   "cell_type": "markdown",
   "id": "6164540b",
   "metadata": {},
   "source": [
    "### Renaming Columns"
   ]
  },
  {
   "cell_type": "code",
   "execution_count": 30,
   "id": "70fb3139",
   "metadata": {},
   "outputs": [],
   "source": [
    "df.columns=df.columns.str.upper()"
   ]
  },
  {
   "cell_type": "code",
   "execution_count": 31,
   "id": "0af8ffa8",
   "metadata": {
    "scrolled": true
   },
   "outputs": [
    {
     "data": {
      "text/plain": [
       "Index(['DATE', 'QUARTER', 'DEPARTMENT', 'DAY', 'TEAM', 'TARGETED_PRODUCTIVITY',\n",
       "       'SMV', 'WIP', 'OVER_TIME', 'INCENTIVE', 'IDLE_TIME', 'IDLE_MEN',\n",
       "       'NO_OF_STYLE_CHANGE', 'NO_OF_WORKERS', 'ACTUAL_PRODUCTIVITY'],\n",
       "      dtype='object')"
      ]
     },
     "execution_count": 31,
     "metadata": {},
     "output_type": "execute_result"
    }
   ],
   "source": [
    "df.columns"
   ]
  },
  {
   "cell_type": "markdown",
   "id": "85e489e3",
   "metadata": {},
   "source": [
    "### Identifying any categorical data in the dataframe and Loading Correctly"
   ]
  },
  {
   "cell_type": "code",
   "execution_count": 33,
   "id": "bb645ba1",
   "metadata": {},
   "outputs": [
    {
     "data": {
      "text/plain": [
       "DATE                      59\n",
       "QUARTER                    5\n",
       "DEPARTMENT                 3\n",
       "DAY                        6\n",
       "TEAM                      12\n",
       "TARGETED_PRODUCTIVITY      9\n",
       "SMV                       70\n",
       "WIP                      548\n",
       "OVER_TIME                143\n",
       "INCENTIVE                 48\n",
       "IDLE_TIME                 12\n",
       "IDLE_MEN                  10\n",
       "NO_OF_STYLE_CHANGE         3\n",
       "NO_OF_WORKERS             61\n",
       "ACTUAL_PRODUCTIVITY      879\n",
       "dtype: int64"
      ]
     },
     "execution_count": 33,
     "metadata": {},
     "output_type": "execute_result"
    }
   ],
   "source": [
    "uniques=df.nunique()\n",
    "uniques"
   ]
  },
  {
   "cell_type": "code",
   "execution_count": 34,
   "id": "9b3dd47a",
   "metadata": {},
   "outputs": [
    {
     "data": {
      "text/plain": [
       "array(['Quarter1', 'Quarter2', 'Quarter3', 'Quarter4', 'Quarter5'],\n",
       "      dtype=object)"
      ]
     },
     "execution_count": 34,
     "metadata": {},
     "output_type": "execute_result"
    }
   ],
   "source": [
    "df['QUARTER'].unique()"
   ]
  },
  {
   "cell_type": "code",
   "execution_count": 35,
   "id": "38d7b6c6",
   "metadata": {},
   "outputs": [
    {
     "data": {
      "text/plain": [
       "array(['sweing', 'finishing ', 'finishing'], dtype=object)"
      ]
     },
     "execution_count": 35,
     "metadata": {},
     "output_type": "execute_result"
    }
   ],
   "source": [
    "df['DEPARTMENT'].unique()"
   ]
  },
  {
   "cell_type": "code",
   "execution_count": 36,
   "id": "1fc6f1b9",
   "metadata": {},
   "outputs": [],
   "source": [
    "df=df.replace('sweing','sewing')"
   ]
  },
  {
   "cell_type": "code",
   "execution_count": 37,
   "id": "afedb930",
   "metadata": {},
   "outputs": [
    {
     "data": {
      "text/plain": [
       "array(['sewing', 'finishing ', 'finishing'], dtype=object)"
      ]
     },
     "execution_count": 37,
     "metadata": {},
     "output_type": "execute_result"
    }
   ],
   "source": [
    "df['DEPARTMENT'].unique()"
   ]
  },
  {
   "cell_type": "code",
   "execution_count": 38,
   "id": "de8ecca4",
   "metadata": {},
   "outputs": [],
   "source": [
    "df['DEPARTMENT']=df['DEPARTMENT'].str.strip()"
   ]
  },
  {
   "cell_type": "code",
   "execution_count": 39,
   "id": "812e8835",
   "metadata": {},
   "outputs": [
    {
     "data": {
      "text/plain": [
       "sewing       691\n",
       "finishing    506\n",
       "Name: DEPARTMENT, dtype: int64"
      ]
     },
     "execution_count": 39,
     "metadata": {},
     "output_type": "execute_result"
    }
   ],
   "source": [
    "df['DEPARTMENT'].value_counts()"
   ]
  },
  {
   "cell_type": "code",
   "execution_count": 40,
   "id": "e16e504a",
   "metadata": {},
   "outputs": [
    {
     "data": {
      "text/plain": [
       "0       0.940725\n",
       "1       0.886500\n",
       "2       0.800570\n",
       "3       0.800570\n",
       "4       0.800382\n",
       "          ...   \n",
       "1192    0.628333\n",
       "1193    0.625625\n",
       "1194    0.625625\n",
       "1195    0.505889\n",
       "1196    0.394722\n",
       "Name: ACTUAL_PRODUCTIVITY, Length: 1197, dtype: float64"
      ]
     },
     "execution_count": 40,
     "metadata": {},
     "output_type": "execute_result"
    }
   ],
   "source": [
    "df['TARGETED_PRODUCTIVITY']=df['TARGETED_PRODUCTIVITY'].round(2)\n",
    "df['ACTUAL_PRODUCTIVITY']"
   ]
  },
  {
   "cell_type": "code",
   "execution_count": 41,
   "id": "9cd3131e",
   "metadata": {},
   "outputs": [
    {
     "data": {
      "text/html": [
       "<div>\n",
       "<style scoped>\n",
       "    .dataframe tbody tr th:only-of-type {\n",
       "        vertical-align: middle;\n",
       "    }\n",
       "\n",
       "    .dataframe tbody tr th {\n",
       "        vertical-align: top;\n",
       "    }\n",
       "\n",
       "    .dataframe thead th {\n",
       "        text-align: right;\n",
       "    }\n",
       "</style>\n",
       "<table border=\"1\" class=\"dataframe\">\n",
       "  <thead>\n",
       "    <tr style=\"text-align: right;\">\n",
       "      <th></th>\n",
       "      <th>DATE</th>\n",
       "      <th>QUARTER</th>\n",
       "      <th>DEPARTMENT</th>\n",
       "      <th>DAY</th>\n",
       "      <th>TEAM</th>\n",
       "      <th>TARGETED_PRODUCTIVITY</th>\n",
       "      <th>SMV</th>\n",
       "      <th>WIP</th>\n",
       "      <th>OVER_TIME</th>\n",
       "      <th>INCENTIVE</th>\n",
       "      <th>IDLE_TIME</th>\n",
       "      <th>IDLE_MEN</th>\n",
       "      <th>NO_OF_STYLE_CHANGE</th>\n",
       "      <th>NO_OF_WORKERS</th>\n",
       "      <th>ACTUAL_PRODUCTIVITY</th>\n",
       "    </tr>\n",
       "  </thead>\n",
       "  <tbody>\n",
       "    <tr>\n",
       "      <th>0</th>\n",
       "      <td>1/1/2015</td>\n",
       "      <td>Quarter1</td>\n",
       "      <td>sewing</td>\n",
       "      <td>Thursday</td>\n",
       "      <td>8</td>\n",
       "      <td>0.80</td>\n",
       "      <td>26.16</td>\n",
       "      <td>1108.0</td>\n",
       "      <td>7080</td>\n",
       "      <td>98</td>\n",
       "      <td>0.0</td>\n",
       "      <td>0</td>\n",
       "      <td>0</td>\n",
       "      <td>59.0</td>\n",
       "      <td>0.940725</td>\n",
       "    </tr>\n",
       "    <tr>\n",
       "      <th>1</th>\n",
       "      <td>1/1/2015</td>\n",
       "      <td>Quarter1</td>\n",
       "      <td>finishing</td>\n",
       "      <td>Thursday</td>\n",
       "      <td>1</td>\n",
       "      <td>0.75</td>\n",
       "      <td>3.94</td>\n",
       "      <td>NaN</td>\n",
       "      <td>960</td>\n",
       "      <td>0</td>\n",
       "      <td>0.0</td>\n",
       "      <td>0</td>\n",
       "      <td>0</td>\n",
       "      <td>8.0</td>\n",
       "      <td>0.886500</td>\n",
       "    </tr>\n",
       "    <tr>\n",
       "      <th>2</th>\n",
       "      <td>1/1/2015</td>\n",
       "      <td>Quarter1</td>\n",
       "      <td>sewing</td>\n",
       "      <td>Thursday</td>\n",
       "      <td>11</td>\n",
       "      <td>0.80</td>\n",
       "      <td>11.41</td>\n",
       "      <td>968.0</td>\n",
       "      <td>3660</td>\n",
       "      <td>50</td>\n",
       "      <td>0.0</td>\n",
       "      <td>0</td>\n",
       "      <td>0</td>\n",
       "      <td>30.5</td>\n",
       "      <td>0.800570</td>\n",
       "    </tr>\n",
       "    <tr>\n",
       "      <th>3</th>\n",
       "      <td>1/1/2015</td>\n",
       "      <td>Quarter1</td>\n",
       "      <td>sewing</td>\n",
       "      <td>Thursday</td>\n",
       "      <td>12</td>\n",
       "      <td>0.80</td>\n",
       "      <td>11.41</td>\n",
       "      <td>968.0</td>\n",
       "      <td>3660</td>\n",
       "      <td>50</td>\n",
       "      <td>0.0</td>\n",
       "      <td>0</td>\n",
       "      <td>0</td>\n",
       "      <td>30.5</td>\n",
       "      <td>0.800570</td>\n",
       "    </tr>\n",
       "    <tr>\n",
       "      <th>4</th>\n",
       "      <td>1/1/2015</td>\n",
       "      <td>Quarter1</td>\n",
       "      <td>sewing</td>\n",
       "      <td>Thursday</td>\n",
       "      <td>6</td>\n",
       "      <td>0.80</td>\n",
       "      <td>25.90</td>\n",
       "      <td>1170.0</td>\n",
       "      <td>1920</td>\n",
       "      <td>50</td>\n",
       "      <td>0.0</td>\n",
       "      <td>0</td>\n",
       "      <td>0</td>\n",
       "      <td>56.0</td>\n",
       "      <td>0.800382</td>\n",
       "    </tr>\n",
       "  </tbody>\n",
       "</table>\n",
       "</div>"
      ],
      "text/plain": [
       "       DATE   QUARTER DEPARTMENT       DAY  TEAM  TARGETED_PRODUCTIVITY  \\\n",
       "0  1/1/2015  Quarter1     sewing  Thursday     8                   0.80   \n",
       "1  1/1/2015  Quarter1  finishing  Thursday     1                   0.75   \n",
       "2  1/1/2015  Quarter1     sewing  Thursday    11                   0.80   \n",
       "3  1/1/2015  Quarter1     sewing  Thursday    12                   0.80   \n",
       "4  1/1/2015  Quarter1     sewing  Thursday     6                   0.80   \n",
       "\n",
       "     SMV     WIP  OVER_TIME  INCENTIVE  IDLE_TIME  IDLE_MEN  \\\n",
       "0  26.16  1108.0       7080         98        0.0         0   \n",
       "1   3.94     NaN        960          0        0.0         0   \n",
       "2  11.41   968.0       3660         50        0.0         0   \n",
       "3  11.41   968.0       3660         50        0.0         0   \n",
       "4  25.90  1170.0       1920         50        0.0         0   \n",
       "\n",
       "   NO_OF_STYLE_CHANGE  NO_OF_WORKERS  ACTUAL_PRODUCTIVITY  \n",
       "0                   0           59.0             0.940725  \n",
       "1                   0            8.0             0.886500  \n",
       "2                   0           30.5             0.800570  \n",
       "3                   0           30.5             0.800570  \n",
       "4                   0           56.0             0.800382  "
      ]
     },
     "execution_count": 41,
     "metadata": {},
     "output_type": "execute_result"
    }
   ],
   "source": [
    "df.head(5)"
   ]
  },
  {
   "cell_type": "code",
   "execution_count": 42,
   "id": "2891b677",
   "metadata": {},
   "outputs": [
    {
     "data": {
      "text/html": [
       "<div>\n",
       "<style scoped>\n",
       "    .dataframe tbody tr th:only-of-type {\n",
       "        vertical-align: middle;\n",
       "    }\n",
       "\n",
       "    .dataframe tbody tr th {\n",
       "        vertical-align: top;\n",
       "    }\n",
       "\n",
       "    .dataframe thead th {\n",
       "        text-align: right;\n",
       "    }\n",
       "</style>\n",
       "<table border=\"1\" class=\"dataframe\">\n",
       "  <thead>\n",
       "    <tr style=\"text-align: right;\">\n",
       "      <th></th>\n",
       "      <th>TEAM</th>\n",
       "      <th>TARGETED_PRODUCTIVITY</th>\n",
       "      <th>SMV</th>\n",
       "      <th>WIP</th>\n",
       "      <th>OVER_TIME</th>\n",
       "      <th>INCENTIVE</th>\n",
       "      <th>IDLE_TIME</th>\n",
       "      <th>IDLE_MEN</th>\n",
       "      <th>NO_OF_STYLE_CHANGE</th>\n",
       "      <th>NO_OF_WORKERS</th>\n",
       "      <th>ACTUAL_PRODUCTIVITY</th>\n",
       "    </tr>\n",
       "  </thead>\n",
       "  <tbody>\n",
       "    <tr>\n",
       "      <th>count</th>\n",
       "      <td>1197.000000</td>\n",
       "      <td>1197.000000</td>\n",
       "      <td>1197.000000</td>\n",
       "      <td>691.000000</td>\n",
       "      <td>1197.000000</td>\n",
       "      <td>1197.000000</td>\n",
       "      <td>1197.000000</td>\n",
       "      <td>1197.000000</td>\n",
       "      <td>1197.000000</td>\n",
       "      <td>1197.000000</td>\n",
       "      <td>1197.000000</td>\n",
       "    </tr>\n",
       "    <tr>\n",
       "      <th>mean</th>\n",
       "      <td>6.426901</td>\n",
       "      <td>0.729632</td>\n",
       "      <td>15.062172</td>\n",
       "      <td>1190.465991</td>\n",
       "      <td>4567.460317</td>\n",
       "      <td>38.210526</td>\n",
       "      <td>0.730159</td>\n",
       "      <td>0.369256</td>\n",
       "      <td>0.150376</td>\n",
       "      <td>34.609858</td>\n",
       "      <td>0.735091</td>\n",
       "    </tr>\n",
       "    <tr>\n",
       "      <th>std</th>\n",
       "      <td>3.463963</td>\n",
       "      <td>0.097891</td>\n",
       "      <td>10.943219</td>\n",
       "      <td>1837.455001</td>\n",
       "      <td>3348.823563</td>\n",
       "      <td>160.182643</td>\n",
       "      <td>12.709757</td>\n",
       "      <td>3.268987</td>\n",
       "      <td>0.427848</td>\n",
       "      <td>22.197687</td>\n",
       "      <td>0.174488</td>\n",
       "    </tr>\n",
       "    <tr>\n",
       "      <th>min</th>\n",
       "      <td>1.000000</td>\n",
       "      <td>0.070000</td>\n",
       "      <td>2.900000</td>\n",
       "      <td>7.000000</td>\n",
       "      <td>0.000000</td>\n",
       "      <td>0.000000</td>\n",
       "      <td>0.000000</td>\n",
       "      <td>0.000000</td>\n",
       "      <td>0.000000</td>\n",
       "      <td>2.000000</td>\n",
       "      <td>0.233705</td>\n",
       "    </tr>\n",
       "    <tr>\n",
       "      <th>25%</th>\n",
       "      <td>3.000000</td>\n",
       "      <td>0.700000</td>\n",
       "      <td>3.940000</td>\n",
       "      <td>774.500000</td>\n",
       "      <td>1440.000000</td>\n",
       "      <td>0.000000</td>\n",
       "      <td>0.000000</td>\n",
       "      <td>0.000000</td>\n",
       "      <td>0.000000</td>\n",
       "      <td>9.000000</td>\n",
       "      <td>0.650307</td>\n",
       "    </tr>\n",
       "    <tr>\n",
       "      <th>50%</th>\n",
       "      <td>6.000000</td>\n",
       "      <td>0.750000</td>\n",
       "      <td>15.260000</td>\n",
       "      <td>1039.000000</td>\n",
       "      <td>3960.000000</td>\n",
       "      <td>0.000000</td>\n",
       "      <td>0.000000</td>\n",
       "      <td>0.000000</td>\n",
       "      <td>0.000000</td>\n",
       "      <td>34.000000</td>\n",
       "      <td>0.773333</td>\n",
       "    </tr>\n",
       "    <tr>\n",
       "      <th>75%</th>\n",
       "      <td>9.000000</td>\n",
       "      <td>0.800000</td>\n",
       "      <td>24.260000</td>\n",
       "      <td>1252.500000</td>\n",
       "      <td>6960.000000</td>\n",
       "      <td>50.000000</td>\n",
       "      <td>0.000000</td>\n",
       "      <td>0.000000</td>\n",
       "      <td>0.000000</td>\n",
       "      <td>57.000000</td>\n",
       "      <td>0.850253</td>\n",
       "    </tr>\n",
       "    <tr>\n",
       "      <th>max</th>\n",
       "      <td>12.000000</td>\n",
       "      <td>0.800000</td>\n",
       "      <td>54.560000</td>\n",
       "      <td>23122.000000</td>\n",
       "      <td>25920.000000</td>\n",
       "      <td>3600.000000</td>\n",
       "      <td>300.000000</td>\n",
       "      <td>45.000000</td>\n",
       "      <td>2.000000</td>\n",
       "      <td>89.000000</td>\n",
       "      <td>1.120437</td>\n",
       "    </tr>\n",
       "  </tbody>\n",
       "</table>\n",
       "</div>"
      ],
      "text/plain": [
       "              TEAM  TARGETED_PRODUCTIVITY          SMV           WIP  \\\n",
       "count  1197.000000            1197.000000  1197.000000    691.000000   \n",
       "mean      6.426901               0.729632    15.062172   1190.465991   \n",
       "std       3.463963               0.097891    10.943219   1837.455001   \n",
       "min       1.000000               0.070000     2.900000      7.000000   \n",
       "25%       3.000000               0.700000     3.940000    774.500000   \n",
       "50%       6.000000               0.750000    15.260000   1039.000000   \n",
       "75%       9.000000               0.800000    24.260000   1252.500000   \n",
       "max      12.000000               0.800000    54.560000  23122.000000   \n",
       "\n",
       "          OVER_TIME    INCENTIVE    IDLE_TIME     IDLE_MEN  \\\n",
       "count   1197.000000  1197.000000  1197.000000  1197.000000   \n",
       "mean    4567.460317    38.210526     0.730159     0.369256   \n",
       "std     3348.823563   160.182643    12.709757     3.268987   \n",
       "min        0.000000     0.000000     0.000000     0.000000   \n",
       "25%     1440.000000     0.000000     0.000000     0.000000   \n",
       "50%     3960.000000     0.000000     0.000000     0.000000   \n",
       "75%     6960.000000    50.000000     0.000000     0.000000   \n",
       "max    25920.000000  3600.000000   300.000000    45.000000   \n",
       "\n",
       "       NO_OF_STYLE_CHANGE  NO_OF_WORKERS  ACTUAL_PRODUCTIVITY  \n",
       "count         1197.000000    1197.000000          1197.000000  \n",
       "mean             0.150376      34.609858             0.735091  \n",
       "std              0.427848      22.197687             0.174488  \n",
       "min              0.000000       2.000000             0.233705  \n",
       "25%              0.000000       9.000000             0.650307  \n",
       "50%              0.000000      34.000000             0.773333  \n",
       "75%              0.000000      57.000000             0.850253  \n",
       "max              2.000000      89.000000             1.120437  "
      ]
     },
     "execution_count": 42,
     "metadata": {},
     "output_type": "execute_result"
    }
   ],
   "source": [
    "df. describe()"
   ]
  },
  {
   "cell_type": "markdown",
   "id": "6e34c6d1",
   "metadata": {},
   "source": [
    "### Feature Engineering "
   ]
  },
  {
   "cell_type": "markdown",
   "id": "00d77128",
   "metadata": {},
   "source": [
    "The method of producing new, significant variables from the available data to improve a machine learning model's performance is known as feature engineering. "
   ]
  },
  {
   "cell_type": "code",
   "execution_count": 43,
   "id": "f5acdee4",
   "metadata": {},
   "outputs": [],
   "source": [
    "df['PRODUCTIVITY']=df['TARGETED_PRODUCTIVITY']-df['ACTUAL_PRODUCTIVITY']"
   ]
  },
  {
   "cell_type": "code",
   "execution_count": 44,
   "id": "bebee555",
   "metadata": {},
   "outputs": [
    {
     "data": {
      "text/plain": [
       "0      -0.140725\n",
       "1      -0.136500\n",
       "2      -0.000570\n",
       "3      -0.000570\n",
       "4      -0.000382\n",
       "          ...   \n",
       "1192    0.121667\n",
       "1193    0.074375\n",
       "1194    0.024375\n",
       "1195    0.244111\n",
       "1196    0.305278\n",
       "Name: PRODUCTIVITY, Length: 1197, dtype: float64"
      ]
     },
     "execution_count": 44,
     "metadata": {},
     "output_type": "execute_result"
    }
   ],
   "source": [
    "df['PRODUCTIVITY']"
   ]
  },
  {
   "cell_type": "code",
   "execution_count": 45,
   "id": "16fdd844",
   "metadata": {
    "scrolled": true
   },
   "outputs": [
    {
     "data": {
      "text/plain": [
       "False    875\n",
       "True     322\n",
       "Name: PRODUCTIVITY, dtype: int64"
      ]
     },
     "execution_count": 45,
     "metadata": {},
     "output_type": "execute_result"
    }
   ],
   "source": [
    "(df['PRODUCTIVITY']>0).value_counts()"
   ]
  },
  {
   "cell_type": "code",
   "execution_count": 46,
   "id": "0091429e",
   "metadata": {},
   "outputs": [],
   "source": [
    "df['CLASSIFICATION'] = df['PRODUCTIVITY'].apply(lambda x: 1 if x > 0 else 0)"
   ]
  },
  {
   "cell_type": "code",
   "execution_count": 47,
   "id": "60dd22c1",
   "metadata": {
    "scrolled": true
   },
   "outputs": [
    {
     "data": {
      "text/plain": [
       "0    875\n",
       "1    322\n",
       "Name: CLASSIFICATION, dtype: int64"
      ]
     },
     "execution_count": 47,
     "metadata": {},
     "output_type": "execute_result"
    }
   ],
   "source": [
    "df['CLASSIFICATION'].value_counts()"
   ]
  },
  {
   "cell_type": "code",
   "execution_count": 48,
   "id": "f4233351",
   "metadata": {
    "scrolled": true
   },
   "outputs": [
    {
     "data": {
      "text/html": [
       "<div>\n",
       "<style scoped>\n",
       "    .dataframe tbody tr th:only-of-type {\n",
       "        vertical-align: middle;\n",
       "    }\n",
       "\n",
       "    .dataframe tbody tr th {\n",
       "        vertical-align: top;\n",
       "    }\n",
       "\n",
       "    .dataframe thead th {\n",
       "        text-align: right;\n",
       "    }\n",
       "</style>\n",
       "<table border=\"1\" class=\"dataframe\">\n",
       "  <thead>\n",
       "    <tr style=\"text-align: right;\">\n",
       "      <th></th>\n",
       "      <th>DATE</th>\n",
       "      <th>TEAM</th>\n",
       "      <th>TARGETED_PRODUCTIVITY</th>\n",
       "      <th>SMV</th>\n",
       "      <th>WIP</th>\n",
       "      <th>OVER_TIME</th>\n",
       "      <th>INCENTIVE</th>\n",
       "      <th>IDLE_TIME</th>\n",
       "      <th>IDLE_MEN</th>\n",
       "      <th>NO_OF_STYLE_CHANGE</th>\n",
       "      <th>...</th>\n",
       "      <th>DEPARTMENT_sewing</th>\n",
       "      <th>DAY_Saturday</th>\n",
       "      <th>DAY_Sunday</th>\n",
       "      <th>DAY_Thursday</th>\n",
       "      <th>DAY_Tuesday</th>\n",
       "      <th>DAY_Wednesday</th>\n",
       "      <th>QUARTER_Quarter2</th>\n",
       "      <th>QUARTER_Quarter3</th>\n",
       "      <th>QUARTER_Quarter4</th>\n",
       "      <th>QUARTER_Quarter5</th>\n",
       "    </tr>\n",
       "  </thead>\n",
       "  <tbody>\n",
       "    <tr>\n",
       "      <th>0</th>\n",
       "      <td>1/1/2015</td>\n",
       "      <td>8</td>\n",
       "      <td>0.80</td>\n",
       "      <td>26.16</td>\n",
       "      <td>1108.0</td>\n",
       "      <td>7080</td>\n",
       "      <td>98</td>\n",
       "      <td>0.0</td>\n",
       "      <td>0</td>\n",
       "      <td>0</td>\n",
       "      <td>...</td>\n",
       "      <td>1</td>\n",
       "      <td>0</td>\n",
       "      <td>0</td>\n",
       "      <td>1</td>\n",
       "      <td>0</td>\n",
       "      <td>0</td>\n",
       "      <td>0</td>\n",
       "      <td>0</td>\n",
       "      <td>0</td>\n",
       "      <td>0</td>\n",
       "    </tr>\n",
       "    <tr>\n",
       "      <th>1</th>\n",
       "      <td>1/1/2015</td>\n",
       "      <td>1</td>\n",
       "      <td>0.75</td>\n",
       "      <td>3.94</td>\n",
       "      <td>NaN</td>\n",
       "      <td>960</td>\n",
       "      <td>0</td>\n",
       "      <td>0.0</td>\n",
       "      <td>0</td>\n",
       "      <td>0</td>\n",
       "      <td>...</td>\n",
       "      <td>0</td>\n",
       "      <td>0</td>\n",
       "      <td>0</td>\n",
       "      <td>1</td>\n",
       "      <td>0</td>\n",
       "      <td>0</td>\n",
       "      <td>0</td>\n",
       "      <td>0</td>\n",
       "      <td>0</td>\n",
       "      <td>0</td>\n",
       "    </tr>\n",
       "    <tr>\n",
       "      <th>2</th>\n",
       "      <td>1/1/2015</td>\n",
       "      <td>11</td>\n",
       "      <td>0.80</td>\n",
       "      <td>11.41</td>\n",
       "      <td>968.0</td>\n",
       "      <td>3660</td>\n",
       "      <td>50</td>\n",
       "      <td>0.0</td>\n",
       "      <td>0</td>\n",
       "      <td>0</td>\n",
       "      <td>...</td>\n",
       "      <td>1</td>\n",
       "      <td>0</td>\n",
       "      <td>0</td>\n",
       "      <td>1</td>\n",
       "      <td>0</td>\n",
       "      <td>0</td>\n",
       "      <td>0</td>\n",
       "      <td>0</td>\n",
       "      <td>0</td>\n",
       "      <td>0</td>\n",
       "    </tr>\n",
       "    <tr>\n",
       "      <th>3</th>\n",
       "      <td>1/1/2015</td>\n",
       "      <td>12</td>\n",
       "      <td>0.80</td>\n",
       "      <td>11.41</td>\n",
       "      <td>968.0</td>\n",
       "      <td>3660</td>\n",
       "      <td>50</td>\n",
       "      <td>0.0</td>\n",
       "      <td>0</td>\n",
       "      <td>0</td>\n",
       "      <td>...</td>\n",
       "      <td>1</td>\n",
       "      <td>0</td>\n",
       "      <td>0</td>\n",
       "      <td>1</td>\n",
       "      <td>0</td>\n",
       "      <td>0</td>\n",
       "      <td>0</td>\n",
       "      <td>0</td>\n",
       "      <td>0</td>\n",
       "      <td>0</td>\n",
       "    </tr>\n",
       "    <tr>\n",
       "      <th>4</th>\n",
       "      <td>1/1/2015</td>\n",
       "      <td>6</td>\n",
       "      <td>0.80</td>\n",
       "      <td>25.90</td>\n",
       "      <td>1170.0</td>\n",
       "      <td>1920</td>\n",
       "      <td>50</td>\n",
       "      <td>0.0</td>\n",
       "      <td>0</td>\n",
       "      <td>0</td>\n",
       "      <td>...</td>\n",
       "      <td>1</td>\n",
       "      <td>0</td>\n",
       "      <td>0</td>\n",
       "      <td>1</td>\n",
       "      <td>0</td>\n",
       "      <td>0</td>\n",
       "      <td>0</td>\n",
       "      <td>0</td>\n",
       "      <td>0</td>\n",
       "      <td>0</td>\n",
       "    </tr>\n",
       "    <tr>\n",
       "      <th>...</th>\n",
       "      <td>...</td>\n",
       "      <td>...</td>\n",
       "      <td>...</td>\n",
       "      <td>...</td>\n",
       "      <td>...</td>\n",
       "      <td>...</td>\n",
       "      <td>...</td>\n",
       "      <td>...</td>\n",
       "      <td>...</td>\n",
       "      <td>...</td>\n",
       "      <td>...</td>\n",
       "      <td>...</td>\n",
       "      <td>...</td>\n",
       "      <td>...</td>\n",
       "      <td>...</td>\n",
       "      <td>...</td>\n",
       "      <td>...</td>\n",
       "      <td>...</td>\n",
       "      <td>...</td>\n",
       "      <td>...</td>\n",
       "      <td>...</td>\n",
       "    </tr>\n",
       "    <tr>\n",
       "      <th>1192</th>\n",
       "      <td>3/11/2015</td>\n",
       "      <td>10</td>\n",
       "      <td>0.75</td>\n",
       "      <td>2.90</td>\n",
       "      <td>NaN</td>\n",
       "      <td>960</td>\n",
       "      <td>0</td>\n",
       "      <td>0.0</td>\n",
       "      <td>0</td>\n",
       "      <td>0</td>\n",
       "      <td>...</td>\n",
       "      <td>0</td>\n",
       "      <td>0</td>\n",
       "      <td>0</td>\n",
       "      <td>0</td>\n",
       "      <td>0</td>\n",
       "      <td>1</td>\n",
       "      <td>1</td>\n",
       "      <td>0</td>\n",
       "      <td>0</td>\n",
       "      <td>0</td>\n",
       "    </tr>\n",
       "    <tr>\n",
       "      <th>1193</th>\n",
       "      <td>3/11/2015</td>\n",
       "      <td>8</td>\n",
       "      <td>0.70</td>\n",
       "      <td>3.90</td>\n",
       "      <td>NaN</td>\n",
       "      <td>960</td>\n",
       "      <td>0</td>\n",
       "      <td>0.0</td>\n",
       "      <td>0</td>\n",
       "      <td>0</td>\n",
       "      <td>...</td>\n",
       "      <td>0</td>\n",
       "      <td>0</td>\n",
       "      <td>0</td>\n",
       "      <td>0</td>\n",
       "      <td>0</td>\n",
       "      <td>1</td>\n",
       "      <td>1</td>\n",
       "      <td>0</td>\n",
       "      <td>0</td>\n",
       "      <td>0</td>\n",
       "    </tr>\n",
       "    <tr>\n",
       "      <th>1194</th>\n",
       "      <td>3/11/2015</td>\n",
       "      <td>7</td>\n",
       "      <td>0.65</td>\n",
       "      <td>3.90</td>\n",
       "      <td>NaN</td>\n",
       "      <td>960</td>\n",
       "      <td>0</td>\n",
       "      <td>0.0</td>\n",
       "      <td>0</td>\n",
       "      <td>0</td>\n",
       "      <td>...</td>\n",
       "      <td>0</td>\n",
       "      <td>0</td>\n",
       "      <td>0</td>\n",
       "      <td>0</td>\n",
       "      <td>0</td>\n",
       "      <td>1</td>\n",
       "      <td>1</td>\n",
       "      <td>0</td>\n",
       "      <td>0</td>\n",
       "      <td>0</td>\n",
       "    </tr>\n",
       "    <tr>\n",
       "      <th>1195</th>\n",
       "      <td>3/11/2015</td>\n",
       "      <td>9</td>\n",
       "      <td>0.75</td>\n",
       "      <td>2.90</td>\n",
       "      <td>NaN</td>\n",
       "      <td>1800</td>\n",
       "      <td>0</td>\n",
       "      <td>0.0</td>\n",
       "      <td>0</td>\n",
       "      <td>0</td>\n",
       "      <td>...</td>\n",
       "      <td>0</td>\n",
       "      <td>0</td>\n",
       "      <td>0</td>\n",
       "      <td>0</td>\n",
       "      <td>0</td>\n",
       "      <td>1</td>\n",
       "      <td>1</td>\n",
       "      <td>0</td>\n",
       "      <td>0</td>\n",
       "      <td>0</td>\n",
       "    </tr>\n",
       "    <tr>\n",
       "      <th>1196</th>\n",
       "      <td>3/11/2015</td>\n",
       "      <td>6</td>\n",
       "      <td>0.70</td>\n",
       "      <td>2.90</td>\n",
       "      <td>NaN</td>\n",
       "      <td>720</td>\n",
       "      <td>0</td>\n",
       "      <td>0.0</td>\n",
       "      <td>0</td>\n",
       "      <td>0</td>\n",
       "      <td>...</td>\n",
       "      <td>0</td>\n",
       "      <td>0</td>\n",
       "      <td>0</td>\n",
       "      <td>0</td>\n",
       "      <td>0</td>\n",
       "      <td>1</td>\n",
       "      <td>1</td>\n",
       "      <td>0</td>\n",
       "      <td>0</td>\n",
       "      <td>0</td>\n",
       "    </tr>\n",
       "  </tbody>\n",
       "</table>\n",
       "<p>1197 rows × 24 columns</p>\n",
       "</div>"
      ],
      "text/plain": [
       "           DATE  TEAM  TARGETED_PRODUCTIVITY    SMV     WIP  OVER_TIME  \\\n",
       "0      1/1/2015     8                   0.80  26.16  1108.0       7080   \n",
       "1      1/1/2015     1                   0.75   3.94     NaN        960   \n",
       "2      1/1/2015    11                   0.80  11.41   968.0       3660   \n",
       "3      1/1/2015    12                   0.80  11.41   968.0       3660   \n",
       "4      1/1/2015     6                   0.80  25.90  1170.0       1920   \n",
       "...         ...   ...                    ...    ...     ...        ...   \n",
       "1192  3/11/2015    10                   0.75   2.90     NaN        960   \n",
       "1193  3/11/2015     8                   0.70   3.90     NaN        960   \n",
       "1194  3/11/2015     7                   0.65   3.90     NaN        960   \n",
       "1195  3/11/2015     9                   0.75   2.90     NaN       1800   \n",
       "1196  3/11/2015     6                   0.70   2.90     NaN        720   \n",
       "\n",
       "      INCENTIVE  IDLE_TIME  IDLE_MEN  NO_OF_STYLE_CHANGE  ...  \\\n",
       "0            98        0.0         0                   0  ...   \n",
       "1             0        0.0         0                   0  ...   \n",
       "2            50        0.0         0                   0  ...   \n",
       "3            50        0.0         0                   0  ...   \n",
       "4            50        0.0         0                   0  ...   \n",
       "...         ...        ...       ...                 ...  ...   \n",
       "1192          0        0.0         0                   0  ...   \n",
       "1193          0        0.0         0                   0  ...   \n",
       "1194          0        0.0         0                   0  ...   \n",
       "1195          0        0.0         0                   0  ...   \n",
       "1196          0        0.0         0                   0  ...   \n",
       "\n",
       "      DEPARTMENT_sewing  DAY_Saturday  DAY_Sunday  DAY_Thursday  DAY_Tuesday  \\\n",
       "0                     1             0           0             1            0   \n",
       "1                     0             0           0             1            0   \n",
       "2                     1             0           0             1            0   \n",
       "3                     1             0           0             1            0   \n",
       "4                     1             0           0             1            0   \n",
       "...                 ...           ...         ...           ...          ...   \n",
       "1192                  0             0           0             0            0   \n",
       "1193                  0             0           0             0            0   \n",
       "1194                  0             0           0             0            0   \n",
       "1195                  0             0           0             0            0   \n",
       "1196                  0             0           0             0            0   \n",
       "\n",
       "      DAY_Wednesday  QUARTER_Quarter2  QUARTER_Quarter3  QUARTER_Quarter4  \\\n",
       "0                 0                 0                 0                 0   \n",
       "1                 0                 0                 0                 0   \n",
       "2                 0                 0                 0                 0   \n",
       "3                 0                 0                 0                 0   \n",
       "4                 0                 0                 0                 0   \n",
       "...             ...               ...               ...               ...   \n",
       "1192              1                 1                 0                 0   \n",
       "1193              1                 1                 0                 0   \n",
       "1194              1                 1                 0                 0   \n",
       "1195              1                 1                 0                 0   \n",
       "1196              1                 1                 0                 0   \n",
       "\n",
       "      QUARTER_Quarter5  \n",
       "0                    0  \n",
       "1                    0  \n",
       "2                    0  \n",
       "3                    0  \n",
       "4                    0  \n",
       "...                ...  \n",
       "1192                 0  \n",
       "1193                 0  \n",
       "1194                 0  \n",
       "1195                 0  \n",
       "1196                 0  \n",
       "\n",
       "[1197 rows x 24 columns]"
      ]
     },
     "execution_count": 48,
     "metadata": {},
     "output_type": "execute_result"
    }
   ],
   "source": [
    "df_dummy=pd.get_dummies(\n",
    "    df,\n",
    "    prefix_sep='_',\n",
    "    dummy_na=False,\n",
    "    drop_first=True,\n",
    "    columns=['DEPARTMENT','DAY','QUARTER'],\n",
    "    dtype='int32'\n",
    "    \n",
    ")\n",
    "df_dummy"
   ]
  },
  {
   "cell_type": "code",
   "execution_count": 49,
   "id": "ff8cd9c0",
   "metadata": {},
   "outputs": [],
   "source": [
    "#df_dummy=df_dummy.drop(['DATE','SMV','INCENTIVE'],axis=1)"
   ]
  },
  {
   "cell_type": "code",
   "execution_count": 50,
   "id": "85173c05",
   "metadata": {},
   "outputs": [],
   "source": [
    "#imputer = SimpleImputer(strategy='mean')"
   ]
  },
  {
   "cell_type": "code",
   "execution_count": 51,
   "id": "55dd4992",
   "metadata": {},
   "outputs": [],
   "source": [
    "#df_dummy['WIP']=imputer.fit_transform(df_dummy[['WIP']])"
   ]
  },
  {
   "cell_type": "code",
   "execution_count": 52,
   "id": "8df9028e",
   "metadata": {},
   "outputs": [],
   "source": [
    "#df_dummy = pd.DataFrame(df_imputed, columns=df_dummy.columns)"
   ]
  },
  {
   "cell_type": "code",
   "execution_count": 53,
   "id": "2baa538a",
   "metadata": {},
   "outputs": [
    {
     "data": {
      "text/plain": [
       "DATE                       0\n",
       "TEAM                       0\n",
       "TARGETED_PRODUCTIVITY      0\n",
       "SMV                        0\n",
       "WIP                      506\n",
       "OVER_TIME                  0\n",
       "INCENTIVE                  0\n",
       "IDLE_TIME                  0\n",
       "IDLE_MEN                   0\n",
       "NO_OF_STYLE_CHANGE         0\n",
       "NO_OF_WORKERS              0\n",
       "ACTUAL_PRODUCTIVITY        0\n",
       "PRODUCTIVITY               0\n",
       "CLASSIFICATION             0\n",
       "DEPARTMENT_sewing          0\n",
       "DAY_Saturday               0\n",
       "DAY_Sunday                 0\n",
       "DAY_Thursday               0\n",
       "DAY_Tuesday                0\n",
       "DAY_Wednesday              0\n",
       "QUARTER_Quarter2           0\n",
       "QUARTER_Quarter3           0\n",
       "QUARTER_Quarter4           0\n",
       "QUARTER_Quarter5           0\n",
       "dtype: int64"
      ]
     },
     "execution_count": 53,
     "metadata": {},
     "output_type": "execute_result"
    }
   ],
   "source": [
    "df_dummy.isna().sum()"
   ]
  },
  {
   "cell_type": "code",
   "execution_count": null,
   "id": "4f7bcf12",
   "metadata": {},
   "outputs": [],
   "source": []
  },
  {
   "cell_type": "code",
   "execution_count": 78,
   "id": "547cc754",
   "metadata": {},
   "outputs": [
    {
     "data": {
      "text/plain": [
       "0       0\n",
       "1       0\n",
       "2       0\n",
       "3       0\n",
       "4       0\n",
       "       ..\n",
       "1192    1\n",
       "1193    1\n",
       "1194    1\n",
       "1195    1\n",
       "1196    1\n",
       "Name: CLASSIFICATION, Length: 1197, dtype: int64"
      ]
     },
     "execution_count": 78,
     "metadata": {},
     "output_type": "execute_result"
    }
   ],
   "source": [
    "features=df_dummy.drop(['ACTUAL_PRODUCTIVITY','PRODUCTIVITY','CLASSIFICATION','WIP','DATE'],axis=1)\n",
    "features\n",
    "target=df_dummy['CLASSIFICATION']\n",
    "target"
   ]
  },
  {
   "cell_type": "markdown",
   "id": "4124ec15",
   "metadata": {},
   "source": [
    "## Training and Standardization"
   ]
  },
  {
   "cell_type": "markdown",
   "id": "ec76e332",
   "metadata": {},
   "source": [
    "Training a dataset is nothing but using a part of the data to teach a model how to make predictions, while testing the dataset involves evaluating the model's performance taking a seperate part of the data to assess its performance."
   ]
  },
  {
   "cell_type": "markdown",
   "id": "531b74d8",
   "metadata": {},
   "source": [
    "### Training the Dataset"
   ]
  },
  {
   "cell_type": "code",
   "execution_count": 79,
   "id": "339a0fb4",
   "metadata": {},
   "outputs": [],
   "source": [
    "X_train,X_test,y_train,y_test=train_test_split(features,target,test_size=0.2,random_state=1)"
   ]
  },
  {
   "cell_type": "code",
   "execution_count": 80,
   "id": "f2aa9e81",
   "metadata": {},
   "outputs": [
    {
     "data": {
      "text/html": [
       "<div>\n",
       "<style scoped>\n",
       "    .dataframe tbody tr th:only-of-type {\n",
       "        vertical-align: middle;\n",
       "    }\n",
       "\n",
       "    .dataframe tbody tr th {\n",
       "        vertical-align: top;\n",
       "    }\n",
       "\n",
       "    .dataframe thead th {\n",
       "        text-align: right;\n",
       "    }\n",
       "</style>\n",
       "<table border=\"1\" class=\"dataframe\">\n",
       "  <thead>\n",
       "    <tr style=\"text-align: right;\">\n",
       "      <th></th>\n",
       "      <th>TEAM</th>\n",
       "      <th>TARGETED_PRODUCTIVITY</th>\n",
       "      <th>SMV</th>\n",
       "      <th>OVER_TIME</th>\n",
       "      <th>INCENTIVE</th>\n",
       "      <th>IDLE_TIME</th>\n",
       "      <th>IDLE_MEN</th>\n",
       "      <th>NO_OF_STYLE_CHANGE</th>\n",
       "      <th>NO_OF_WORKERS</th>\n",
       "      <th>DEPARTMENT_sewing</th>\n",
       "      <th>DAY_Saturday</th>\n",
       "      <th>DAY_Sunday</th>\n",
       "      <th>DAY_Thursday</th>\n",
       "      <th>DAY_Tuesday</th>\n",
       "      <th>DAY_Wednesday</th>\n",
       "      <th>QUARTER_Quarter2</th>\n",
       "      <th>QUARTER_Quarter3</th>\n",
       "      <th>QUARTER_Quarter4</th>\n",
       "      <th>QUARTER_Quarter5</th>\n",
       "    </tr>\n",
       "  </thead>\n",
       "  <tbody>\n",
       "    <tr>\n",
       "      <th>994</th>\n",
       "      <td>1</td>\n",
       "      <td>0.60</td>\n",
       "      <td>26.66</td>\n",
       "      <td>6840</td>\n",
       "      <td>38</td>\n",
       "      <td>0.0</td>\n",
       "      <td>0</td>\n",
       "      <td>0</td>\n",
       "      <td>57.0</td>\n",
       "      <td>1</td>\n",
       "      <td>0</td>\n",
       "      <td>1</td>\n",
       "      <td>0</td>\n",
       "      <td>0</td>\n",
       "      <td>0</td>\n",
       "      <td>0</td>\n",
       "      <td>0</td>\n",
       "      <td>0</td>\n",
       "      <td>0</td>\n",
       "    </tr>\n",
       "    <tr>\n",
       "      <th>584</th>\n",
       "      <td>8</td>\n",
       "      <td>0.70</td>\n",
       "      <td>4.15</td>\n",
       "      <td>960</td>\n",
       "      <td>0</td>\n",
       "      <td>0.0</td>\n",
       "      <td>0</td>\n",
       "      <td>0</td>\n",
       "      <td>8.0</td>\n",
       "      <td>0</td>\n",
       "      <td>0</td>\n",
       "      <td>0</td>\n",
       "      <td>0</td>\n",
       "      <td>1</td>\n",
       "      <td>0</td>\n",
       "      <td>0</td>\n",
       "      <td>0</td>\n",
       "      <td>0</td>\n",
       "      <td>0</td>\n",
       "    </tr>\n",
       "    <tr>\n",
       "      <th>824</th>\n",
       "      <td>6</td>\n",
       "      <td>0.80</td>\n",
       "      <td>2.90</td>\n",
       "      <td>1440</td>\n",
       "      <td>0</td>\n",
       "      <td>0.0</td>\n",
       "      <td>0</td>\n",
       "      <td>0</td>\n",
       "      <td>12.0</td>\n",
       "      <td>0</td>\n",
       "      <td>0</td>\n",
       "      <td>0</td>\n",
       "      <td>0</td>\n",
       "      <td>0</td>\n",
       "      <td>1</td>\n",
       "      <td>0</td>\n",
       "      <td>1</td>\n",
       "      <td>0</td>\n",
       "      <td>0</td>\n",
       "    </tr>\n",
       "    <tr>\n",
       "      <th>323</th>\n",
       "      <td>9</td>\n",
       "      <td>0.80</td>\n",
       "      <td>26.16</td>\n",
       "      <td>10620</td>\n",
       "      <td>63</td>\n",
       "      <td>0.0</td>\n",
       "      <td>0</td>\n",
       "      <td>0</td>\n",
       "      <td>59.0</td>\n",
       "      <td>1</td>\n",
       "      <td>0</td>\n",
       "      <td>0</td>\n",
       "      <td>0</td>\n",
       "      <td>0</td>\n",
       "      <td>0</td>\n",
       "      <td>0</td>\n",
       "      <td>1</td>\n",
       "      <td>0</td>\n",
       "      <td>0</td>\n",
       "    </tr>\n",
       "    <tr>\n",
       "      <th>1106</th>\n",
       "      <td>3</td>\n",
       "      <td>0.80</td>\n",
       "      <td>4.60</td>\n",
       "      <td>1440</td>\n",
       "      <td>0</td>\n",
       "      <td>0.0</td>\n",
       "      <td>0</td>\n",
       "      <td>0</td>\n",
       "      <td>12.0</td>\n",
       "      <td>0</td>\n",
       "      <td>0</td>\n",
       "      <td>1</td>\n",
       "      <td>0</td>\n",
       "      <td>0</td>\n",
       "      <td>0</td>\n",
       "      <td>1</td>\n",
       "      <td>0</td>\n",
       "      <td>0</td>\n",
       "      <td>0</td>\n",
       "    </tr>\n",
       "    <tr>\n",
       "      <th>...</th>\n",
       "      <td>...</td>\n",
       "      <td>...</td>\n",
       "      <td>...</td>\n",
       "      <td>...</td>\n",
       "      <td>...</td>\n",
       "      <td>...</td>\n",
       "      <td>...</td>\n",
       "      <td>...</td>\n",
       "      <td>...</td>\n",
       "      <td>...</td>\n",
       "      <td>...</td>\n",
       "      <td>...</td>\n",
       "      <td>...</td>\n",
       "      <td>...</td>\n",
       "      <td>...</td>\n",
       "      <td>...</td>\n",
       "      <td>...</td>\n",
       "      <td>...</td>\n",
       "      <td>...</td>\n",
       "    </tr>\n",
       "    <tr>\n",
       "      <th>715</th>\n",
       "      <td>8</td>\n",
       "      <td>0.35</td>\n",
       "      <td>4.15</td>\n",
       "      <td>1440</td>\n",
       "      <td>0</td>\n",
       "      <td>0.0</td>\n",
       "      <td>0</td>\n",
       "      <td>0</td>\n",
       "      <td>12.0</td>\n",
       "      <td>0</td>\n",
       "      <td>0</td>\n",
       "      <td>0</td>\n",
       "      <td>0</td>\n",
       "      <td>0</td>\n",
       "      <td>1</td>\n",
       "      <td>1</td>\n",
       "      <td>0</td>\n",
       "      <td>0</td>\n",
       "      <td>0</td>\n",
       "    </tr>\n",
       "    <tr>\n",
       "      <th>905</th>\n",
       "      <td>12</td>\n",
       "      <td>0.80</td>\n",
       "      <td>15.26</td>\n",
       "      <td>4080</td>\n",
       "      <td>50</td>\n",
       "      <td>0.0</td>\n",
       "      <td>0</td>\n",
       "      <td>0</td>\n",
       "      <td>34.0</td>\n",
       "      <td>1</td>\n",
       "      <td>0</td>\n",
       "      <td>0</td>\n",
       "      <td>0</td>\n",
       "      <td>1</td>\n",
       "      <td>0</td>\n",
       "      <td>0</td>\n",
       "      <td>0</td>\n",
       "      <td>1</td>\n",
       "      <td>0</td>\n",
       "    </tr>\n",
       "    <tr>\n",
       "      <th>1096</th>\n",
       "      <td>9</td>\n",
       "      <td>0.75</td>\n",
       "      <td>18.79</td>\n",
       "      <td>3480</td>\n",
       "      <td>45</td>\n",
       "      <td>0.0</td>\n",
       "      <td>0</td>\n",
       "      <td>0</td>\n",
       "      <td>51.0</td>\n",
       "      <td>1</td>\n",
       "      <td>1</td>\n",
       "      <td>0</td>\n",
       "      <td>0</td>\n",
       "      <td>0</td>\n",
       "      <td>0</td>\n",
       "      <td>0</td>\n",
       "      <td>0</td>\n",
       "      <td>0</td>\n",
       "      <td>0</td>\n",
       "    </tr>\n",
       "    <tr>\n",
       "      <th>235</th>\n",
       "      <td>5</td>\n",
       "      <td>0.70</td>\n",
       "      <td>20.79</td>\n",
       "      <td>10440</td>\n",
       "      <td>0</td>\n",
       "      <td>0.0</td>\n",
       "      <td>0</td>\n",
       "      <td>0</td>\n",
       "      <td>58.0</td>\n",
       "      <td>1</td>\n",
       "      <td>0</td>\n",
       "      <td>0</td>\n",
       "      <td>0</td>\n",
       "      <td>1</td>\n",
       "      <td>0</td>\n",
       "      <td>1</td>\n",
       "      <td>0</td>\n",
       "      <td>0</td>\n",
       "      <td>0</td>\n",
       "    </tr>\n",
       "    <tr>\n",
       "      <th>1061</th>\n",
       "      <td>10</td>\n",
       "      <td>0.70</td>\n",
       "      <td>21.82</td>\n",
       "      <td>5760</td>\n",
       "      <td>30</td>\n",
       "      <td>0.0</td>\n",
       "      <td>0</td>\n",
       "      <td>0</td>\n",
       "      <td>53.0</td>\n",
       "      <td>1</td>\n",
       "      <td>0</td>\n",
       "      <td>0</td>\n",
       "      <td>0</td>\n",
       "      <td>0</td>\n",
       "      <td>1</td>\n",
       "      <td>0</td>\n",
       "      <td>0</td>\n",
       "      <td>0</td>\n",
       "      <td>0</td>\n",
       "    </tr>\n",
       "  </tbody>\n",
       "</table>\n",
       "<p>957 rows × 19 columns</p>\n",
       "</div>"
      ],
      "text/plain": [
       "      TEAM  TARGETED_PRODUCTIVITY    SMV  OVER_TIME  INCENTIVE  IDLE_TIME  \\\n",
       "994      1                   0.60  26.66       6840         38        0.0   \n",
       "584      8                   0.70   4.15        960          0        0.0   \n",
       "824      6                   0.80   2.90       1440          0        0.0   \n",
       "323      9                   0.80  26.16      10620         63        0.0   \n",
       "1106     3                   0.80   4.60       1440          0        0.0   \n",
       "...    ...                    ...    ...        ...        ...        ...   \n",
       "715      8                   0.35   4.15       1440          0        0.0   \n",
       "905     12                   0.80  15.26       4080         50        0.0   \n",
       "1096     9                   0.75  18.79       3480         45        0.0   \n",
       "235      5                   0.70  20.79      10440          0        0.0   \n",
       "1061    10                   0.70  21.82       5760         30        0.0   \n",
       "\n",
       "      IDLE_MEN  NO_OF_STYLE_CHANGE  NO_OF_WORKERS  DEPARTMENT_sewing  \\\n",
       "994          0                   0           57.0                  1   \n",
       "584          0                   0            8.0                  0   \n",
       "824          0                   0           12.0                  0   \n",
       "323          0                   0           59.0                  1   \n",
       "1106         0                   0           12.0                  0   \n",
       "...        ...                 ...            ...                ...   \n",
       "715          0                   0           12.0                  0   \n",
       "905          0                   0           34.0                  1   \n",
       "1096         0                   0           51.0                  1   \n",
       "235          0                   0           58.0                  1   \n",
       "1061         0                   0           53.0                  1   \n",
       "\n",
       "      DAY_Saturday  DAY_Sunday  DAY_Thursday  DAY_Tuesday  DAY_Wednesday  \\\n",
       "994              0           1             0            0              0   \n",
       "584              0           0             0            1              0   \n",
       "824              0           0             0            0              1   \n",
       "323              0           0             0            0              0   \n",
       "1106             0           1             0            0              0   \n",
       "...            ...         ...           ...          ...            ...   \n",
       "715              0           0             0            0              1   \n",
       "905              0           0             0            1              0   \n",
       "1096             1           0             0            0              0   \n",
       "235              0           0             0            1              0   \n",
       "1061             0           0             0            0              1   \n",
       "\n",
       "      QUARTER_Quarter2  QUARTER_Quarter3  QUARTER_Quarter4  QUARTER_Quarter5  \n",
       "994                  0                 0                 0                 0  \n",
       "584                  0                 0                 0                 0  \n",
       "824                  0                 1                 0                 0  \n",
       "323                  0                 1                 0                 0  \n",
       "1106                 1                 0                 0                 0  \n",
       "...                ...               ...               ...               ...  \n",
       "715                  1                 0                 0                 0  \n",
       "905                  0                 0                 1                 0  \n",
       "1096                 0                 0                 0                 0  \n",
       "235                  1                 0                 0                 0  \n",
       "1061                 0                 0                 0                 0  \n",
       "\n",
       "[957 rows x 19 columns]"
      ]
     },
     "execution_count": 80,
     "metadata": {},
     "output_type": "execute_result"
    }
   ],
   "source": [
    "X_train"
   ]
  },
  {
   "cell_type": "markdown",
   "id": "a0b1cf3b",
   "metadata": {},
   "source": [
    "### Standardization"
   ]
  },
  {
   "cell_type": "markdown",
   "id": "7520cc8e",
   "metadata": {},
   "source": [
    "Standardization is the process of transforming numerical data to have a mean of 0 and a standard deviation of 1, These are often used to ensure variables are on a same scale for analysis."
   ]
  },
  {
   "cell_type": "code",
   "execution_count": 81,
   "id": "3385cae9",
   "metadata": {},
   "outputs": [],
   "source": [
    "scaler = preprocessing.StandardScaler()\n",
    "scaler.fit(X_train)\n",
    "\n",
    "# Transform the predictors of training and validation sets\n",
    "X_train = scaler.transform(X_train) \n",
    "X_test = scaler.transform(X_test)"
   ]
  },
  {
   "cell_type": "code",
   "execution_count": 82,
   "id": "d8c415c1",
   "metadata": {},
   "outputs": [],
   "source": [
    "#rus = RandomUnderSampler(random_state=42)\n",
    "#X_res, y_res = rus.fit_resample(X_train, y_train)"
   ]
  },
  {
   "cell_type": "code",
   "execution_count": 83,
   "id": "03e944a1",
   "metadata": {},
   "outputs": [],
   "source": [
    "#smote = SMOTE(random_state=42)\n",
    "#X_res, y_res = smote.fit_resample(X_train, y_train)"
   ]
  },
  {
   "cell_type": "code",
   "execution_count": 84,
   "id": "4142c333",
   "metadata": {},
   "outputs": [],
   "source": [
    "adasyn = ADASYN(sampling_strategy='auto', random_state=42, n_neighbors=5, n_jobs=-1)"
   ]
  },
  {
   "cell_type": "code",
   "execution_count": 85,
   "id": "d03684a5",
   "metadata": {},
   "outputs": [],
   "source": [
    "X_res, y_res = adasyn.fit_resample(X_train, y_train)"
   ]
  },
  {
   "cell_type": "code",
   "execution_count": 86,
   "id": "8bd726cf",
   "metadata": {},
   "outputs": [
    {
     "data": {
      "text/plain": [
       "994     0\n",
       "584     0\n",
       "824     0\n",
       "323     0\n",
       "1106    0\n",
       "       ..\n",
       "715     0\n",
       "905     0\n",
       "1096    1\n",
       "235     1\n",
       "1061    0\n",
       "Name: CLASSIFICATION, Length: 957, dtype: int64"
      ]
     },
     "execution_count": 86,
     "metadata": {},
     "output_type": "execute_result"
    }
   ],
   "source": [
    "y_train"
   ]
  },
  {
   "cell_type": "markdown",
   "id": "5652a87d",
   "metadata": {},
   "source": [
    "### Decision Tree"
   ]
  },
  {
   "cell_type": "code",
   "execution_count": 87,
   "id": "0db83158",
   "metadata": {},
   "outputs": [],
   "source": [
    "clf=DecisionTreeClassifier()\n",
    "_=clf.fit(X_res,y_res)"
   ]
  },
  {
   "cell_type": "code",
   "execution_count": 88,
   "id": "c5aa09cb",
   "metadata": {},
   "outputs": [],
   "source": [
    "y_pred = clf.predict(X_test) "
   ]
  },
  {
   "cell_type": "code",
   "execution_count": 89,
   "id": "a08c8063",
   "metadata": {
    "scrolled": false
   },
   "outputs": [
    {
     "name": "stdout",
     "output_type": "stream",
     "text": [
      "Decision Tree Accuracy: 0.8125\n"
     ]
    }
   ],
   "source": [
    "ac=accuracy_score(y_test,y_pred)\n",
    "print(\"Decision Tree Accuracy:\", ac)"
   ]
  },
  {
   "cell_type": "markdown",
   "id": "4e3c2266",
   "metadata": {},
   "source": [
    "### SVC"
   ]
  },
  {
   "cell_type": "code",
   "execution_count": 90,
   "id": "f8fb1ef5",
   "metadata": {},
   "outputs": [],
   "source": [
    "clf=SVC()\n",
    "_=clf.fit(X_res,y_res)"
   ]
  },
  {
   "cell_type": "code",
   "execution_count": 91,
   "id": "83cdd403",
   "metadata": {},
   "outputs": [],
   "source": [
    "y_pred = clf.predict(X_test) "
   ]
  },
  {
   "cell_type": "code",
   "execution_count": 92,
   "id": "ddb226b2",
   "metadata": {},
   "outputs": [
    {
     "name": "stdout",
     "output_type": "stream",
     "text": [
      "SVC Accuracy: 0.6875\n"
     ]
    }
   ],
   "source": [
    "ac=accuracy_score(y_test,y_pred)\n",
    "print(\"SVC Accuracy:\", ac)"
   ]
  },
  {
   "cell_type": "markdown",
   "id": "8781207e",
   "metadata": {},
   "source": [
    "### Logistic Regression"
   ]
  },
  {
   "cell_type": "code",
   "execution_count": 93,
   "id": "932d5a95",
   "metadata": {},
   "outputs": [],
   "source": [
    "clf=LogisticRegression()\n",
    "_=clf.fit(X_res,y_res)"
   ]
  },
  {
   "cell_type": "code",
   "execution_count": 94,
   "id": "b08fb782",
   "metadata": {},
   "outputs": [],
   "source": [
    "y_pred=clf.predict(X_test)"
   ]
  },
  {
   "cell_type": "code",
   "execution_count": 95,
   "id": "f2039261",
   "metadata": {},
   "outputs": [
    {
     "name": "stdout",
     "output_type": "stream",
     "text": [
      "Logistic Regression Accuracy: 0.6583333333333333\n"
     ]
    }
   ],
   "source": [
    "ac=accuracy_score(y_test,y_pred)\n",
    "print(\"Logistic Regression Accuracy:\", ac)"
   ]
  },
  {
   "cell_type": "markdown",
   "id": "4a8cfd33",
   "metadata": {},
   "source": [
    "## Grid and Randomized Search"
   ]
  },
  {
   "cell_type": "markdown",
   "id": "6a98dbcd",
   "metadata": {},
   "source": [
    "RandomizedSearchCV combines random search and grid search by randomly sampling hyperparameters from predefined distributions."
   ]
  },
  {
   "cell_type": "markdown",
   "id": "2adf2d44",
   "metadata": {},
   "source": [
    "### Grid and Randomized Search for Decision Tree"
   ]
  },
  {
   "cell_type": "code",
   "execution_count": 97,
   "id": "5dc40886",
   "metadata": {},
   "outputs": [
    {
     "name": "stdout",
     "output_type": "stream",
     "text": [
      "accuracy score:  0.823064628908201\n",
      "parameters:  {'criterion': 'gini', 'max_depth': 817, 'max_leaf_nodes': 40, 'min_impurity_decrease': 0, 'min_samples_split': 2}\n"
     ]
    }
   ],
   "source": [
    "score_measure = 'accuracy'\n",
    "k_fold = 10\n",
    "# Considering the Parameters\n",
    "param_grid = {\n",
    "    'criterion': ['gini', 'entropy', 'log_loss'],\n",
    "    'max_depth': [int(x) for x in np.linspace(1, 40000, 50)], \n",
    "    'max_leaf_nodes': [2, 5, 10, 20, 30, 40],\n",
    "    'min_samples_split': [2, 5, 10, 20, 40, 60, 80, 100], \n",
    "    'min_impurity_decrease': [0, 0.0005, 0.001, 0.005, 0.01], \n",
    "}\n",
    "gridSearch = GridSearchCV(\n",
    "    DecisionTreeClassifier(random_state=1), \n",
    "    param_grid, cv=k_fold, \n",
    "    scoring=score_measure,\n",
    "    n_jobs=-1)  # n_jobs=-1 will utilize all available CPUs \n",
    "\n",
    "gridSearch.fit(X_res, y_res)\n",
    "print(score_measure, 'score: ', gridSearch.best_score_)\n",
    "print('parameters: ', gridSearch.best_params_)\n",
    "\n",
    "bestAccuracyTree = gridSearch.best_estimator_"
   ]
  },
  {
   "cell_type": "code",
   "execution_count": 98,
   "id": "d44c7dbd",
   "metadata": {},
   "outputs": [
    {
     "name": "stdout",
     "output_type": "stream",
     "text": [
      "accuracy score: 0.823064628908201\n",
      "Best parameters: {'min_samples_split': 5, 'min_samples_leaf': 1, 'min_impurity_decrease': 0.0005, 'max_leaf_nodes': 40, 'max_depth': 40, 'criterion': 'gini'}\n"
     ]
    }
   ],
   "source": [
    "# Defining the hyperparameter search space for Decision Tree\n",
    "k_fold=10\n",
    "param_dist = {\n",
    "     'criterion': ['gini', 'entropy', 'log_loss'],\n",
    "    'max_leaf_nodes': [None, 5, 10, 20, 30, 40],\n",
    "    'max_depth': [2, 5, 10, 20, 30, 40],\n",
    "    'min_samples_split': [2, 5, 10, 20, 40, 60, 80, 100],\n",
    "    'min_samples_leaf': [1, 2, 4],\n",
    "    'min_impurity_decrease': [0, 0.0005, 0.001, 0.005, 0.01]\n",
    "}\n",
    "\n",
    "# Creating a Decision Tree model\n",
    "model = DecisionTreeClassifier(random_state=1)\n",
    "\n",
    "# Initializing RandomizedSearchCV\n",
    "randomSearch = RandomizedSearchCV(\n",
    "    model, param_distributions=param_dist, n_iter=10, cv=k_fold, scoring=score_measure, n_jobs=-1, random_state=1)\n",
    "\n",
    "# Fitting the RandomizedSearchCV to the training data\n",
    "randomSearch.fit(X_res, y_res)\n",
    "\n",
    "# Get the best parameters and best estimator\n",
    "best_params = randomSearch.best_params_\n",
    "best_estimator = randomSearch.best_estimator_\n",
    "\n",
    "# Print the best parameters and their corresponding performance\n",
    "print(score_measure, 'score:', randomSearch.best_score_)\n",
    "print('Best parameters:', best_params)\n",
    "\n",
    "bestAccuracyTree = randomSearch.best_estimator_"
   ]
  },
  {
   "cell_type": "markdown",
   "id": "0e33598f",
   "metadata": {},
   "source": [
    "### Grid and Randomized Search for LOG GD"
   ]
  },
  {
   "cell_type": "code",
   "execution_count": 99,
   "id": "2cf82356",
   "metadata": {},
   "outputs": [
    {
     "name": "stdout",
     "output_type": "stream",
     "text": [
      "accuracy score: 0.6826740585356108\n",
      "Best parameters: {'C': 10, 'penalty': 'l1', 'solver': 'liblinear'}\n"
     ]
    }
   ],
   "source": [
    "score_measure = 'accuracy'\n",
    "k_fold = 10\n",
    "\n",
    "# Defining the  hyperparameter search space\n",
    "param_grid = {\n",
    "    'C': [0.001, 0.01, 0.1, 1, 10, 100],  # Regularization strength\n",
    "    'penalty': ['l1', 'l2'],  # Regularization type\n",
    "    'solver': ['liblinear'],  # Suitable for small datasets\n",
    "}\n",
    "\n",
    "# Initializing the  GridSearchCV for the Logistic Regression\n",
    "gridSearch = GridSearchCV(\n",
    "    LogisticRegression(random_state=1),\n",
    "    param_grid,\n",
    "    cv=k_fold,\n",
    "    scoring=score_measure,\n",
    "    n_jobs=-1  # Utilize all available CPUs\n",
    ")\n",
    "\n",
    "# Fitting the grid search to  training data\n",
    "gridSearch.fit(X_res, y_res)\n",
    "\n",
    "# Getting the best parameters and best estimator\n",
    "best_params = gridSearch.best_params_\n",
    "best_estimator = gridSearch.best_estimator_\n",
    "\n",
    "# Printing the best parameters and best accuracy\n",
    "print(score_measure, 'score:', gridSearch.best_score_)\n",
    "print('Best parameters:', best_params)\n",
    "\n",
    "# storing the best Logistic Regression model:\n",
    "bestLogisticRegression = gridSearch.best_estimator_"
   ]
  },
  {
   "cell_type": "code",
   "execution_count": 110,
   "id": "05d40fe4",
   "metadata": {},
   "outputs": [
    {
     "name": "stdout",
     "output_type": "stream",
     "text": [
      "accuracy score: 0.6826840475476976\n",
      "Best parameters: {'solver': 'saga', 'penalty': 'l1', 'max_iter': 10000, 'C': 1}\n"
     ]
    }
   ],
   "source": [
    "# Defining the hyperparameter search space for Logistic Regression\n",
    "k_fold=10\n",
    "param_dist = {\n",
    "    'C': [0.001, 0.01, 0.1, 1, 10, 100],\n",
    "    'penalty': ['l1', 'l2'],\n",
    "    'solver': ['liblinear', 'saga'],\n",
    "    'max_iter': [10000, 200000, 300000, 400000, 500000],\n",
    "}\n",
    "\n",
    "# Creating a Logistic Regression model\n",
    "model = LogisticRegression(random_state=1)\n",
    "\n",
    "# Initializing RandomizedSearchCV\n",
    "randomSearch = RandomizedSearchCV(\n",
    "    model, param_distributions=param_dist, n_iter=10000, cv=k_fold, scoring=score_measure, n_jobs=-1, random_state=1)\n",
    "\n",
    "# Fitting the RandomizedSearchCV to  training data\n",
    "randomSearch.fit(X_res, y_res)\n",
    "\n",
    "# Get the best parameters and best estimator\n",
    "best_params = randomSearch.best_params_\n",
    "best_estimator = randomSearch.best_estimator_\n",
    "\n",
    "# Printing the best parameters and their corresponding performance\n",
    "print(score_measure, 'score:', randomSearch.best_score_)\n",
    "print('Best parameters:', best_params)\n",
    "\n",
    "bestAccuracyLogisticrand = randomSearch.best_estimator_"
   ]
  },
  {
   "cell_type": "markdown",
   "id": "bfa81dda",
   "metadata": {},
   "source": [
    "### Grid and Randomized Search for SVM"
   ]
  },
  {
   "cell_type": "code",
   "execution_count": 112,
   "id": "b7fc444b",
   "metadata": {},
   "outputs": [
    {
     "name": "stdout",
     "output_type": "stream",
     "text": [
      "accuracy score: 0.8499051043851763\n",
      "Best Parameters: {'C': 100, 'degree': 2, 'gamma': 'auto', 'kernel': 'rbf'}\n",
      "Test Accuracy: 0.7041666666666667\n"
     ]
    }
   ],
   "source": [
    "# Defining the hyperparameter for the SVM \n",
    "\n",
    "param_grid = {\n",
    "    'C': [0.1, 1, 10, 100],  # Regularization parameter\n",
    "    'kernel': ['rbf','poly','linear'],  # Kernel type\n",
    "    'degree': [2, 3, 4],  # Degree of the polynomial kernel (if 'poly' is chosen)\n",
    "    'gamma': ['scale', 'auto'] + [0.001, 0.01, 0.1, 1],  # Kernel coefficient (if 'rbf' or 'poly' is chosen)\n",
    "}\n",
    "\n",
    "# Defining the Model (SVC for classification)\n",
    "model = SVC(random_state=1)\n",
    "\n",
    "\n",
    "\n",
    "# Initializing the  GridSearchCV for SVM\n",
    "grid_search = GridSearchCV(\n",
    "    model, param_grid=param_grid, cv=k_fold, scoring=score_measure, n_jobs=-1\n",
    ")\n",
    "\n",
    "# Fitting the GridSearchCV the split data\n",
    "grid_search.fit(X_res, y_res)\n",
    "\n",
    "# Getting the best parameters and best estimator\n",
    "best_params = grid_search.best_params_\n",
    "best_estimator = grid_search.best_estimator_\n",
    "\n",
    "# Evaluate the best model on  test data\n",
    "test_accuracy = best_estimator.score(X_test, y_test)\n",
    "\n",
    "# Printing the best parameters and test accuracy\n",
    "print(score_measure, 'score:', grid_search.best_score_)\n",
    "print('Best Parameters:', best_params)\n",
    "print('Test Accuracy:', test_accuracy)"
   ]
  },
  {
   "cell_type": "code",
   "execution_count": 113,
   "id": "06e0a4be",
   "metadata": {},
   "outputs": [
    {
     "name": "stdout",
     "output_type": "stream",
     "text": [
      "accuracy score: 0.8477924283288383\n",
      "Best parameters: {'kernel': 'rbf', 'gamma': 0.1, 'degree': 2, 'C': 100}\n"
     ]
    }
   ],
   "source": [
    "# Defining the  hyperparameter search space for SVM\n",
    "k_fold=10\n",
    "param_dist = {\n",
    "    'C': [0.1, 1, 10, 100],\n",
    "    'kernel': ['linear', 'poly', 'rbf', 'sigmoid'],\n",
    "    'gamma': [0.1, 1, 10, 'scale', 'auto'],\n",
    "    'degree': [2, 3, 4, 5]\n",
    "}\n",
    "\n",
    "# Create an SVM classifier\n",
    "model = SVC()\n",
    "\n",
    "# Initializing RandomizedSearchCV\n",
    "randomSearch = RandomizedSearchCV(\n",
    "    model, param_distributions=param_dist, n_iter=10, cv=k_fold, scoring=score_measure, n_jobs=-1, random_state=1)\n",
    "\n",
    "# Fitting the RandomizedSearchCV to the training data\n",
    "randomSearch.fit(X_res, y_res)\n",
    "\n",
    "# Get the best parameters and best estimator\n",
    "best_params = randomSearch.best_params_\n",
    "best_estimator = randomSearch.best_estimator_\n",
    "\n",
    "# Print the best parameters and their corresponding performance\n",
    "print(score_measure, 'score:', randomSearch.best_score_)\n",
    "print('Best parameters:', best_params)\n",
    "\n",
    "bestAccuracySVM = randomSearch.best_estimator_"
   ]
  },
  {
   "cell_type": "markdown",
   "id": "63b7425a",
   "metadata": {},
   "source": [
    "## Summary"
   ]
  },
  {
   "cell_type": "markdown",
   "id": "f244974e",
   "metadata": {},
   "source": [
    "We've implemented Decision Tree, SVM and Logistic Regression on our dataset and We've got the following conclusions:\n",
    "\n",
    "The Accuracies that Each Model Genrated:\n",
    "Decision Tree:0.8125 \n",
    "SVM:0.6875\n",
    "Logistic Regression:0.6583\n",
    "\n",
    "Grid and Randomized Test Accuracies:\n",
    "\n",
    "Decision Tree:\n",
    "accuracy score:  0.823064628908201\n",
    "\n",
    "SVM:\n",
    "accuracy score: 0.8477924283288383\n",
    "\n",
    "Logistic Regression:\n",
    "accuracy score: 0.6826740585356108"
   ]
  },
  {
   "cell_type": "markdown",
   "id": "8842b964",
   "metadata": {},
   "source": [
    "SVM, after hyperparameter optimization, achieved the highest accuracy of 0.8478, making it the best-performing model among the three.\n",
    "\n",
    "Decision Tree, after hyperparameter tuning, improved slightly but remained the second-best performing model with an accuracy of 0.8231.\n",
    "\n",
    "Logistic Regression had the lowest accuracy both before and after hyperparameter optimization, indicating that it might not be the most suitable model for this specific task."
   ]
  },
  {
   "cell_type": "code",
   "execution_count": null,
   "id": "a268c469",
   "metadata": {},
   "outputs": [],
   "source": []
  }
 ],
 "metadata": {
  "kernelspec": {
   "display_name": "Python 3 (ipykernel)",
   "language": "python",
   "name": "python3"
  },
  "language_info": {
   "codemirror_mode": {
    "name": "ipython",
    "version": 3
   },
   "file_extension": ".py",
   "mimetype": "text/x-python",
   "name": "python",
   "nbconvert_exporter": "python",
   "pygments_lexer": "ipython3",
   "version": "3.11.4"
  }
 },
 "nbformat": 4,
 "nbformat_minor": 5
}
